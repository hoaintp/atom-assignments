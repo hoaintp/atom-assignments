{
 "cells": [
  {
   "cell_type": "markdown",
   "metadata": {
    "_uuid": "b496c474470390d707bd7dcdbb9f8f2517e609f5"
   },
   "source": [
    "# Exercises 06 - Strings and Dictionaries"
   ]
  },
  {
   "cell_type": "markdown",
   "metadata": {
    "_uuid": "d26f5152a99eef2df502d9b28565786f4ed4a415"
   },
   "source": [
    "## 0. Length of Strings\n",
    "\n",
    "Let's start with a string lightning round to warm up. What are the lengths of the strings below?\n",
    "\n",
    "For each of the five strings below, predict what `len()` would return when passed that string. Use the variable `length` to record your answer."
   ]
  },
  {
   "cell_type": "code",
   "execution_count": 3,
   "metadata": {
    "_uuid": "ed437b519a508dcd80f50a32312228247f25d3aa"
   },
   "outputs": [
    {
     "output_type": "execute_result",
     "data": {
      "text/plain": [
       "True"
      ]
     },
     "metadata": {},
     "execution_count": 3
    }
   ],
   "source": [
    "a = \"\"\n",
    "length = 0\n",
    "len(a) == length"
   ]
  },
  {
   "cell_type": "code",
   "execution_count": 5,
   "metadata": {
    "_uuid": "414757875aaf8d420c50cb1f7db11431be7bcbba"
   },
   "outputs": [
    {
     "output_type": "execute_result",
     "data": {
      "text/plain": [
       "True"
      ]
     },
     "metadata": {},
     "execution_count": 5
    }
   ],
   "source": [
    "b = \"it's ok\"\n",
    "length = 7\n",
    "len(b) == length"
   ]
  },
  {
   "cell_type": "code",
   "execution_count": 7,
   "metadata": {
    "_uuid": "a8d8d51e65782fb0a9b934bcd7b94a3a101df408"
   },
   "outputs": [
    {
     "output_type": "execute_result",
     "data": {
      "text/plain": [
       "True"
      ]
     },
     "metadata": {},
     "execution_count": 7
    }
   ],
   "source": [
    "c = 'it\\'s ok'\n",
    "length = 7\n",
    "len(c) == length"
   ]
  },
  {
   "cell_type": "code",
   "execution_count": 9,
   "metadata": {
    "_uuid": "1c1210ff8d227392c348f60cf80cd16259ae7ade"
   },
   "outputs": [
    {
     "output_type": "execute_result",
     "data": {
      "text/plain": [
       "True"
      ]
     },
     "metadata": {},
     "execution_count": 9
    }
   ],
   "source": [
    "d = \"\"\"hey\"\"\"\n",
    "length = 3\n",
    "len(d) == length"
   ]
  },
  {
   "cell_type": "code",
   "execution_count": 1,
   "metadata": {
    "_uuid": "cdff866e749b860f308f5bd1067e24484aff30c3"
   },
   "outputs": [
    {
     "output_type": "execute_result",
     "data": {
      "text/plain": [
       "False"
      ]
     },
     "metadata": {},
     "execution_count": 1
    }
   ],
   "source": [
    "e = '\\n'\n",
    "length = 0\n",
    "len(e) == length"
   ]
  },
  {
   "cell_type": "markdown",
   "metadata": {
    "_uuid": "5d2fdc40db10425df62137069f80c75bfe3577e6"
   },
   "source": [
    "## 1. Check the Zip Code\n",
    "\n",
    "There is a saying that *\\\"Data scientists spend 80% of their time cleaning data, and 20% of their time complaining about cleaning data.\\\"* Let's see if you can write a function to help clean US zip code data. Given a string, it should return whether or not that string represents a valid zip code. For our purposes, a valid zip code is any string consisting of exactly 5 digits.\n",
    "\n",
    "HINT: `str` has a method that will be useful here. Use `help(str)` to review a list of string methods."
   ]
  },
  {
   "cell_type": "code",
   "execution_count": 21,
   "metadata": {
    "_uuid": "0968fb6aa0c620b82f38f53f49608f7dfc255a4b"
   },
   "outputs": [
    {
     "output_type": "stream",
     "name": "stdout",
     "text": [
      "abc  is NOT a valid code\n"
     ]
    }
   ],
   "source": [
    "def is_valid_zip(zip_code):\n",
    "    \"\"\"Returns whether the input string is a valid (5 digit) zip code\n",
    "    \"\"\"\n",
    "    n = len(zip_code) - 1\n",
    "    num_digit = 0\n",
    "    for i in range(n):\n",
    "        if zip_code[i].isnumeric():\n",
    "            n = n + 1\n",
    "    if n == 5:\n",
    "        return print(zip_code, ' is a valid code')\n",
    "    else:\n",
    "        return print(zip_code, ' is NOT a valid code')\n",
    "    \n",
    "is_valid_zip('abc')\n"
   ]
  },
  {
   "cell_type": "markdown",
   "metadata": {
    "_uuid": "0530e64dceb40965b18ccf1c8cb3b5a6275cbee5"
   },
   "source": [
    "## 2. Searching a Word\n",
    "\n",
    "A researcher has gathered thousands of news articles. But she wants to focus her attention on articles including a specific word. Complete the function below to help her filter her list of articles.\n",
    "\n",
    "Your function should meet the following criteria\n",
    "\n",
    "- Do not include documents where the keyword string shows up only as a part of a larger word. For example, if she were looking for the keyword “closed”, you would not include the string “enclosed.” \n",
    "- She does not want you to distinguish upper case from lower case letters. So the phrase “Closed the case.” would be included when the keyword is “closed”\n",
    "- Do not let periods or commas affect what is matched. “It is closed.” would be included when the keyword is “closed”. But you can assume there are no other types of punctuation.\n",
    "\n",
    "*HINT*: Some methods that may be useful here: `str.split()`, `str.strip()`, `str.lower()`"
   ]
  },
  {
   "cell_type": "code",
   "execution_count": 35,
   "metadata": {
    "_uuid": "c86a3942f07264242e43c0788443b7059b10c3f2"
   },
   "outputs": [
    {
     "output_type": "stream",
     "name": "stdout",
     "text": [
      "Document Index contains keyword ( c ) is: [1, 2]\n"
     ]
    }
   ],
   "source": [
    "def word_search(doc_list, keyword):\n",
    "    \"\"\"\n",
    "    Takes a list of documents (each document is a string) and a keyword. \n",
    "    Returns list of the index values into the original list for all documents \n",
    "    containing the keyword.\n",
    "\n",
    "    Example:\n",
    "    doc_list = [\"The Learn Python Challenge Casino.\", \"They bought a car\", \"Casinoville\"]\n",
    "    >>> word_search(doc_list, 'casino')\n",
    "    >>> [0]\n",
    "    \"\"\"\n",
    "    keyword.lower().strip()\n",
    "    keyword_index = []\n",
    "    for i in range(len(doc_list)):\n",
    "        \n",
    "        if '.' in doc_list[i] or ',' in doc_list[i]:\n",
    "            doc_list[i] = doc_list[i].replace('.',\"\")\n",
    "            doc_list[i] = doc_list[i].replace(',',\"\")\n",
    "\n",
    "        sub_list = doc_list[i].split()\n",
    "        keyword_list = [sub_list[i] for i in range(len(sub_list)) if sub_list[i].lower().strip() == keyword]\n",
    "        if len(keyword_list) > 0:\n",
    "            keyword_index.append(i)\n",
    "    \n",
    "    return print('Document Index contains keyword (',keyword,') is:',keyword_index)\n",
    "\n",
    "word_search(['a',' a b C.','c c'],'c')\n",
    "         \n"
   ]
  },
  {
   "cell_type": "markdown",
   "metadata": {
    "_uuid": "4ebf288ef2b0e43099e255b7e00b58c91065bda2"
   },
   "source": [
    "## 3. Searching Multiple Words\n",
    "\n",
    "Now the researcher wants to supply multiple keywords to search for. Complete the function below to help her.\n",
    "\n",
    "(You're encouraged to use the `word_search` function you just wrote when implementing this function. Reusing code in this way makes your programs more robust and readable - and it saves typing!)"
   ]
  },
  {
   "cell_type": "code",
   "execution_count": 36,
   "metadata": {
    "_uuid": "49feefa04c2f567d4aaf5544d9f65c88dccd6ccc"
   },
   "outputs": [
    {
     "output_type": "stream",
     "name": "stdout",
     "text": [
      "Document Index contains keyword ( casino ) is: [0, 1]\nDocument Index contains keyword ( they ) is: [1]\n"
     ]
    }
   ],
   "source": [
    "def multi_word_search(doc_list, keywords):\n",
    "    \"\"\"\n",
    "    Takes list of documents (each document is a string) and a list of keywords.  \n",
    "    Returns a dictionary where each key is a keyword, and the value is a list of indices\n",
    "    (from doc_list) of the documents containing that keyword\n",
    "\n",
    "    >>> doc_list = [\"The Learn Python Challenge Casino.\", \"They bought a car and a casino\", \"Casinoville\"]\n",
    "    >>> keywords = ['casino', 'they']\n",
    "    >>> multi_word_search(doc_list, keywords)\n",
    "    {'casino': [0, 1], 'they': [1]}\n",
    "    \"\"\"\n",
    "    for i in range(len(keywords)):\n",
    "        word_search(doc_list,keywords[i])\n",
    "\n",
    "doc_list = [\"The Learn Python Challenge Casino.\", \"They bought a car and a casino\", \"Casinoville\"]\n",
    "keywords = ['casino', 'they']\n",
    "multi_word_search(doc_list, keywords)\n"
   ]
  },
  {
   "cell_type": "markdown",
   "metadata": {
    "_uuid": "3ced46d9ad32f750e15daf58772bd49760056cd2"
   },
   "source": [
    "# Keep Going 💪"
   ]
  }
 ],
 "metadata": {
  "kernelspec": {
   "name": "python395jvsc74a57bd00de088ff9727ee96c4d6fff748e8a0449766a03da85633043318bd9293fa6100",
   "display_name": "Python 3.9.5 64-bit"
  },
  "language_info": {
   "codemirror_mode": {
    "name": "ipython",
    "version": 3
   },
   "file_extension": ".py",
   "mimetype": "text/x-python",
   "name": "python",
   "nbconvert_exporter": "python",
   "pygments_lexer": "ipython3",
   "version": "3.9.5"
  },
  "learntools_metadata": {
   "lesson_index": 5,
   "type": "exercise"
  },
  "metadata": {
   "interpreter": {
    "hash": "0de088ff9727ee96c4d6fff748e8a0449766a03da85633043318bd9293fa6100"
   }
  }
 },
 "nbformat": 4,
 "nbformat_minor": 1
}