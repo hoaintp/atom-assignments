{
 "cells": [
  {
   "cell_type": "markdown",
   "metadata": {
    "_uuid": "b2602a05cf2d20af168afaa982545b38dbf19e2b"
   },
   "source": [
    "# Exercises 05 - Loops and List Comprehensions"
   ]
  },
  {
   "cell_type": "markdown",
   "metadata": {
    "_uuid": "39cbbb078ea28f9ce28003e88abd1e33c0130a59"
   },
   "source": [
    "## 1. Taste the Bug\n",
    "\n",
    "Have you ever felt debugging involved a bit of luck? The following program has a bug. Try to identify the bug and fix it."
   ]
  },
  {
   "cell_type": "code",
   "execution_count": 14,
   "metadata": {
    "_uuid": "80dbc6c5838c3b6ec757982a9d9f10d2d4cbf091",
    "collapsed": true
   },
   "outputs": [
    {
     "output_type": "stream",
     "name": "stdout",
     "text": [
      "Well, unlucky for you :) 0\n"
     ]
    }
   ],
   "source": [
    "def has_lucky_number(nums):\n",
    "    \"\"\"Return whether the given list of numbers is lucky. A lucky list contains\n",
    "    at least one number divisible by 7.\n",
    "    \"\"\"\n",
    "    n = len([i for i in nums if i % 7 == 0])\n",
    "    if n > 0:\n",
    "        return print('This is a lucky list')\n",
    "    else:\n",
    "        return print('Well, unlucky for you :)')\n",
    "\n",
    "has_lucky_number([1,2,8])"
   ]
  },
  {
   "cell_type": "markdown",
   "metadata": {
    "_uuid": "66500079b6794826dcdb900fafcb8eef2337e567"
   },
   "source": [
    "## 2. Upgrade the List\n",
    "\n",
    "### a. Guess the Error\n",
    "Look at the Python expression below. What do you think we'll get when we run it? When you've made your prediction, uncomment the code and run the cell to see if you were right."
   ]
  },
  {
   "cell_type": "code",
   "execution_count": 16,
   "metadata": {
    "_uuid": "fa0dc6517349473813e673fdc03ed8c4c055b840"
   },
   "outputs": [
    {
     "output_type": "execute_result",
     "data": {
      "text/plain": [
       "[3, 4]"
      ]
     },
     "metadata": {},
     "execution_count": 16
    }
   ],
   "source": [
    "[i for i in [1, 2, 3, 4] if i > 2]"
   ]
  },
  {
   "cell_type": "markdown",
   "metadata": {
    "_uuid": "ba09a6cf59b560790ad1c47108fde12095ce94c8"
   },
   "source": [
    "### b. Upgrade the List\n",
    "R and Python have some libraries (like Numpy and Pandas) compare each element of the list to 2 (i.e. do an 'element-wise' comparison) and give us a list of booleans like `[False, False, True, True]`. \n",
    "\n",
    "Implement a function that reproduces this behaviour, returning a list of booleans corresponding to whether the corresponding element is greater than n.\n"
   ]
  },
  {
   "cell_type": "code",
   "execution_count": 18,
   "metadata": {
    "_uuid": "9c7f806cb1d832e7162975ab3fd892d90c9de62e",
    "collapsed": true
   },
   "outputs": [
    {
     "output_type": "execute_result",
     "data": {
      "text/plain": [
       "[False, False]"
      ]
     },
     "metadata": {},
     "execution_count": 18
    }
   ],
   "source": [
    "def elementwise_greater_than(L, thresh):\n",
    "    \"\"\"Return a list with the same length as L, where the value at index i is \n",
    "    True if L[i] is greater than thresh, and False otherwise.\n",
    "    \n",
    "    >>> elementwise_greater_than([1, 2, 3, 4], 2)\n",
    "    [False, False, True, True]\n",
    "    \"\"\"\n",
    "    return [i == thresh for i in L]\n",
    "\n",
    "elementwise_greater_than([1,3],0)"
   ]
  },
  {
   "cell_type": "markdown",
   "metadata": {
    "_uuid": "ec3742d0eae13ae6e656ef68f1d228d2098cad93"
   },
   "source": [
    "## 3. Boring Menu\n",
    "\n",
    "Complete the body of the function below according to its docstring.\n",
    "\n",
    "*Hint*: This is a case where it may be preferable to iterate over the indices of the list (using a call to `range()`) rather than iterating over the elements of the list itself. "
   ]
  },
  {
   "cell_type": "code",
   "execution_count": 28,
   "metadata": {
    "_uuid": "ae16b8cbde7f920ecd36a2c9d69965933b3fe1f7"
   },
   "outputs": [
    {
     "output_type": "stream",
     "name": "stdout",
     "text": [
      "[True, True, False, True, True]\n"
     ]
    }
   ],
   "source": [
    "def menu_is_boring(meals):\n",
    "    \"\"\"Given a list of meals served over some period of time, return True if the\n",
    "    same meal has ever been served two days in a row, and False otherwise.\n",
    "    \"\"\"\n",
    "    n = len(meals)\n",
    "    meals.append('')\n",
    "    repeated_menu = []\n",
    "    for i in range(n):\n",
    "        if meals[i] == meals [i+1] or meals[i] == meals[i-1]:\n",
    "            repeated_menu.append(True)\n",
    "        else:\n",
    "            repeated_menu.append(False)\n",
    "    \n",
    "    return print(repeated_menu)\n",
    "\n",
    "menu_is_boring(['A','A','B','C','C'])\n"
   ]
  },
  {
   "cell_type": "markdown",
   "metadata": {
    "_uuid": "12707cf184da3d75666bf4adfd4c54602fe5e11c"
   },
   "source": [
    "# Keep Going"
   ]
  }
 ],
 "metadata": {
  "kernelspec": {
   "name": "python395jvsc74a57bd00de088ff9727ee96c4d6fff748e8a0449766a03da85633043318bd9293fa6100",
   "display_name": "Python 3.9.5 64-bit ('Python39')"
  },
  "language_info": {
   "codemirror_mode": {
    "name": "ipython",
    "version": 3
   },
   "file_extension": ".py",
   "mimetype": "text/x-python",
   "name": "python",
   "nbconvert_exporter": "python",
   "pygments_lexer": "ipython3",
   "version": "3.9.5"
  },
  "learntools_metadata": {
   "lesson_index": 4,
   "type": "exercise"
  },
  "metadata": {
   "interpreter": {
    "hash": "0de088ff9727ee96c4d6fff748e8a0449766a03da85633043318bd9293fa6100"
   }
  }
 },
 "nbformat": 4,
 "nbformat_minor": 1
}