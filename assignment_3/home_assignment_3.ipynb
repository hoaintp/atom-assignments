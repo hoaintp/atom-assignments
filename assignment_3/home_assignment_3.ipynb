{
  "nbformat": 4,
  "nbformat_minor": 0,
  "metadata": {
    "colab": {
      "name": "Slack-Data.ipynb",
      "provenance": [],
      "collapsed_sections": []
    },
    "kernelspec": {
      "name": "python395jvsc74a57bd00de088ff9727ee96c4d6fff748e8a0449766a03da85633043318bd9293fa6100",
      "display_name": "Python 3.9.5 64-bit"
    },
    "language_info": {
      "name": "python",
      "version": "3.9.5"
    },
    "metadata": {
      "interpreter": {
        "hash": "0de088ff9727ee96c4d6fff748e8a0449766a03da85633043318bd9293fa6100"
      }
    }
  },
  "cells": [
    {
      "cell_type": "markdown",
      "metadata": {
        "id": "4w2e0D-hni2p"
      },
      "source": [
        "# HOME ASSIGNMENT #3: SLACK API - TO GSHEET\n",
        "**Mục đích của bài Assignment**\n",
        "- Lấy thông tin các Users từ Slack của DataCracy (BTC, Mentors và Learners)\n",
        "- `**[Optional 1]**` Đưa danh sách Users lên Google Spreadsheet, để theo dõi \n",
        "- `**[Optional 2]**` Lấy thông tin Assignment Submission và số Reviews trên `#atom-assignmentnt2` và cập nhật lên Spreadsheet, để theo dõi các học viên đã nộp bài và được review\n",
        "\n",
        "**Các kiến thức sẽ áp dụng**\n",
        "- Ôn lại và luyện tập thêm về concept API (cụ thể sử dụng API Slack)\n",
        "- Trích xuất thông tin từ JSON\n",
        "- Dùng module gspread để đưa thông tin lên Google Spreadsheet"
      ]
    },
    {
      "cell_type": "markdown",
      "metadata": {
        "id": "yitICPVzpRI2"
      },
      "source": [
        "## 0. Load Modules"
      ]
    },
    {
      "cell_type": "code",
      "execution_count": 16,
      "metadata": {},
      "outputs": [
        {
          "output_type": "stream",
          "name": "stdout",
          "text": [
            "Requirement already satisfied: pip in c:\\users\\duong\\appdata\\local\\programs\\python\\python39\\lib\\site-packages (21.1.1)\nNote: you may need to restart the kernel to use updated packages.\n"
          ]
        }
      ],
      "source": [
        "pip install pip"
      ]
    },
    {
      "cell_type": "code",
      "execution_count": 17,
      "metadata": {},
      "outputs": [
        {
          "output_type": "stream",
          "name": "stdout",
          "text": [
            "Requirement already satisfied: requests in c:\\users\\duong\\appdata\\local\\programs\\python\\python39\\lib\\site-packages (2.25.1)\nRequirement already satisfied: certifi>=2017.4.17 in c:\\users\\duong\\appdata\\local\\programs\\python\\python39\\lib\\site-packages (from requests) (2020.12.5)\nRequirement already satisfied: chardet<5,>=3.0.2 in c:\\users\\duong\\appdata\\local\\programs\\python\\python39\\lib\\site-packages (from requests) (4.0.0)\nRequirement already satisfied: urllib3<1.27,>=1.21.1 in c:\\users\\duong\\appdata\\local\\programs\\python\\python39\\lib\\site-packages (from requests) (1.26.4)\nRequirement already satisfied: idna<3,>=2.5 in c:\\users\\duong\\appdata\\local\\programs\\python\\python39\\lib\\site-packages (from requests) (2.10)\nNote: you may need to restart the kernel to use updated packages.\n"
          ]
        }
      ],
      "source": [
        "pip install requests"
      ]
    },
    {
      "cell_type": "code",
      "execution_count": 18,
      "metadata": {},
      "outputs": [
        {
          "output_type": "stream",
          "name": "stdout",
          "text": [
            "Requirement already satisfied: gspread in c:\\users\\duong\\appdata\\local\\programs\\python\\python39\\lib\\site-packages (3.7.0)\nRequirement already satisfied: google-auth>=1.12.0 in c:\\users\\duong\\appdata\\local\\programs\\python\\python39\\lib\\site-packages (from gspread) (1.30.0)\nRequirement already satisfied: google-auth-oauthlib>=0.4.1 in c:\\users\\duong\\appdata\\local\\programs\\python\\python39\\lib\\site-packages (from gspread) (0.4.4)\nRequirement already satisfied: six>=1.9.0 in c:\\users\\duong\\appdata\\roaming\\python\\python39\\site-packages (from google-auth>=1.12.0->gspread) (1.16.0)\nRequirement already satisfied: pyasn1-modules>=0.2.1 in c:\\users\\duong\\appdata\\local\\programs\\python\\python39\\lib\\site-packages (from google-auth>=1.12.0->gspread) (0.2.8)\nRequirement already satisfied: cachetools<5.0,>=2.0.0 in c:\\users\\duong\\appdata\\local\\programs\\python\\python39\\lib\\site-packages (from google-auth>=1.12.0->gspread) (4.2.2)\nRequirement already satisfied: setuptools>=40.3.0 in c:\\users\\duong\\appdata\\local\\programs\\python\\python39\\lib\\site-packages (from google-auth>=1.12.0->gspread) (56.0.0)\nRequirement already satisfied: rsa<5,>=3.1.4 in c:\\users\\duong\\appdata\\local\\programs\\python\\python39\\lib\\site-packages (from google-auth>=1.12.0->gspread) (4.7.2)\nRequirement already satisfied: requests-oauthlib>=0.7.0 in c:\\users\\duong\\appdata\\local\\programs\\python\\python39\\lib\\site-packages (from google-auth-oauthlib>=0.4.1->gspread) (1.3.0)\nRequirement already satisfied: pyasn1<0.5.0,>=0.4.6 in c:\\users\\duong\\appdata\\local\\programs\\python\\python39\\lib\\site-packages (from pyasn1-modules>=0.2.1->google-auth>=1.12.0->gspread) (0.4.8)\nRequirement already satisfied: requests>=2.0.0 in c:\\users\\duong\\appdata\\local\\programs\\python\\python39\\lib\\site-packages (from requests-oauthlib>=0.7.0->google-auth-oauthlib>=0.4.1->gspread) (2.25.1)\nRequirement already satisfied: oauthlib>=3.0.0 in c:\\users\\duong\\appdata\\local\\programs\\python\\python39\\lib\\site-packages (from requests-oauthlib>=0.7.0->google-auth-oauthlib>=0.4.1->gspread) (3.1.0)\nRequirement already satisfied: chardet<5,>=3.0.2 in c:\\users\\duong\\appdata\\local\\programs\\python\\python39\\lib\\site-packages (from requests>=2.0.0->requests-oauthlib>=0.7.0->google-auth-oauthlib>=0.4.1->gspread) (4.0.0)\nRequirement already satisfied: idna<3,>=2.5 in c:\\users\\duong\\appdata\\local\\programs\\python\\python39\\lib\\site-packages (from requests>=2.0.0->requests-oauthlib>=0.7.0->google-auth-oauthlib>=0.4.1->gspread) (2.10)\nRequirement already satisfied: urllib3<1.27,>=1.21.1 in c:\\users\\duong\\appdata\\local\\programs\\python\\python39\\lib\\site-packages (from requests>=2.0.0->requests-oauthlib>=0.7.0->google-auth-oauthlib>=0.4.1->gspread) (1.26.4)\nRequirement already satisfied: certifi>=2017.4.17 in c:\\users\\duong\\appdata\\local\\programs\\python\\python39\\lib\\site-packages (from requests>=2.0.0->requests-oauthlib>=0.7.0->google-auth-oauthlib>=0.4.1->gspread) (2020.12.5)\nNote: you may need to restart the kernel to use updated packages.\n"
          ]
        }
      ],
      "source": [
        "pip install gspread"
      ]
    },
    {
      "cell_type": "code",
      "execution_count": 19,
      "metadata": {},
      "outputs": [
        {
          "output_type": "stream",
          "name": "stdout",
          "text": [
            "Requirement already satisfied: gspread_dataframe in c:\\users\\duong\\appdata\\local\\programs\\python\\python39\\lib\\site-packages (3.2.1)\nRequirement already satisfied: six>=1.12.0 in c:\\users\\duong\\appdata\\roaming\\python\\python39\\site-packages (from gspread_dataframe) (1.16.0)\nRequirement already satisfied: gspread>=3.0.0 in c:\\users\\duong\\appdata\\local\\programs\\python\\python39\\lib\\site-packages (from gspread_dataframe) (3.7.0)\nRequirement already satisfied: pandas>=0.24.0 in c:\\users\\duong\\appdata\\local\\programs\\python\\python39\\lib\\site-packages (from gspread_dataframe) (1.2.4)\nRequirement already satisfied: google-auth>=1.12.0 in c:\\users\\duong\\appdata\\local\\programs\\python\\python39\\lib\\site-packages (from gspread>=3.0.0->gspread_dataframe) (1.30.0)\nRequirement already satisfied: google-auth-oauthlib>=0.4.1 in c:\\users\\duong\\appdata\\local\\programs\\python\\python39\\lib\\site-packages (from gspread>=3.0.0->gspread_dataframe) (0.4.4)\nRequirement already satisfied: pyasn1-modules>=0.2.1 in c:\\users\\duong\\appdata\\local\\programs\\python\\python39\\lib\\site-packages (from google-auth>=1.12.0->gspread>=3.0.0->gspread_dataframe) (0.2.8)\nRequirement already satisfied: setuptools>=40.3.0 in c:\\users\\duong\\appdata\\local\\programs\\python\\python39\\lib\\site-packages (from google-auth>=1.12.0->gspread>=3.0.0->gspread_dataframe) (56.0.0)\nRequirement already satisfied: cachetools<5.0,>=2.0.0 in c:\\users\\duong\\appdata\\local\\programs\\python\\python39\\lib\\site-packages (from google-auth>=1.12.0->gspread>=3.0.0->gspread_dataframe) (4.2.2)\nRequirement already satisfied: rsa<5,>=3.1.4 in c:\\users\\duong\\appdata\\local\\programs\\python\\python39\\lib\\site-packages (from google-auth>=1.12.0->gspread>=3.0.0->gspread_dataframe) (4.7.2)\nRequirement already satisfied: requests-oauthlib>=0.7.0 in c:\\users\\duong\\appdata\\local\\programs\\python\\python39\\lib\\site-packages (from google-auth-oauthlib>=0.4.1->gspread>=3.0.0->gspread_dataframe) (1.3.0)\nRequirement already satisfied: pytz>=2017.3 in c:\\users\\duong\\appdata\\local\\programs\\python\\python39\\lib\\site-packages (from pandas>=0.24.0->gspread_dataframe) (2021.1)\nRequirement already satisfied: numpy>=1.16.5 in c:\\users\\duong\\appdata\\local\\programs\\python\\python39\\lib\\site-packages (from pandas>=0.24.0->gspread_dataframe) (1.20.3)\nRequirement already satisfied: python-dateutil>=2.7.3 in c:\\users\\duong\\appdata\\roaming\\python\\python39\\site-packages (from pandas>=0.24.0->gspread_dataframe) (2.8.1)\nRequirement already satisfied: pyasn1<0.5.0,>=0.4.6 in c:\\users\\duong\\appdata\\local\\programs\\python\\python39\\lib\\site-packages (from pyasn1-modules>=0.2.1->google-auth>=1.12.0->gspread>=3.0.0->gspread_dataframe) (0.4.8)\nRequirement already satisfied: oauthlib>=3.0.0 in c:\\users\\duong\\appdata\\local\\programs\\python\\python39\\lib\\site-packages (from requests-oauthlib>=0.7.0->google-auth-oauthlib>=0.4.1->gspread>=3.0.0->gspread_dataframe) (3.1.0)\nRequirement already satisfied: requests>=2.0.0 in c:\\users\\duong\\appdata\\local\\programs\\python\\python39\\lib\\site-packages (from requests-oauthlib>=0.7.0->google-auth-oauthlib>=0.4.1->gspread>=3.0.0->gspread_dataframe) (2.25.1)\nRequirement already satisfied: idna<3,>=2.5 in c:\\users\\duong\\appdata\\local\\programs\\python\\python39\\lib\\site-packages (from requests>=2.0.0->requests-oauthlib>=0.7.0->google-auth-oauthlib>=0.4.1->gspread>=3.0.0->gspread_dataframe) (2.10)\nRequirement already satisfied: certifi>=2017.4.17 in c:\\users\\duong\\appdata\\local\\programs\\python\\python39\\lib\\site-packages (from requests>=2.0.0->requests-oauthlib>=0.7.0->google-auth-oauthlib>=0.4.1->gspread>=3.0.0->gspread_dataframe) (2020.12.5)\nRequirement already satisfied: urllib3<1.27,>=1.21.1 in c:\\users\\duong\\appdata\\local\\programs\\python\\python39\\lib\\site-packages (from requests>=2.0.0->requests-oauthlib>=0.7.0->google-auth-oauthlib>=0.4.1->gspread>=3.0.0->gspread_dataframe) (1.26.4)\nRequirement already satisfied: chardet<5,>=3.0.2 in c:\\users\\duong\\appdata\\local\\programs\\python\\python39\\lib\\site-packages (from requests>=2.0.0->requests-oauthlib>=0.7.0->google-auth-oauthlib>=0.4.1->gspread>=3.0.0->gspread_dataframe) (4.0.0)\nNote: you may need to restart the kernel to use updated packages.\n"
          ]
        }
      ],
      "source": [
        "pip install gspread_dataframe"
      ]
    },
    {
      "cell_type": "code",
      "execution_count": 18,
      "metadata": {},
      "outputs": [
        {
          "output_type": "stream",
          "name": "stdout",
          "text": [
            "Requirement already satisfied: oauth2client in c:\\users\\duong\\appdata\\local\\programs\\python\\python39\\lib\\site-packages (4.1.3)\nRequirement already satisfied: six>=1.6.1 in c:\\users\\duong\\appdata\\roaming\\python\\python39\\site-packages (from oauth2client) (1.16.0)\nRequirement already satisfied: httplib2>=0.9.1 in c:\\users\\duong\\appdata\\local\\programs\\python\\python39\\lib\\site-packages (from oauth2client) (0.19.1)\nRequirement already satisfied: pyasn1-modules>=0.0.5 in c:\\users\\duong\\appdata\\local\\programs\\python\\python39\\lib\\site-packages (from oauth2client) (0.2.8)\nRequirement already satisfied: pyasn1>=0.1.7 in c:\\users\\duong\\appdata\\local\\programs\\python\\python39\\lib\\site-packages (from oauth2client) (0.4.8)\nRequirement already satisfied: rsa>=3.1.4 in c:\\users\\duong\\appdata\\local\\programs\\python\\python39\\lib\\site-packages (from oauth2client) (4.7.2)\nRequirement already satisfied: pyparsing<3,>=2.4.2 in c:\\users\\duong\\appdata\\local\\programs\\python\\python39\\lib\\site-packages (from httplib2>=0.9.1->oauth2client) (2.4.7)\nNote: you may need to restart the kernel to use updated packages.\n"
          ]
        }
      ],
      "source": [
        "pip install oauth2client"
      ]
    },
    {
      "cell_type": "code",
      "metadata": {
        "id": "G_HCucZ5rSHq"
      },
      "source": [
        "import requests #-> Để gọi API\n",
        "import re #-> Để xử lý data dạng string\n",
        "from datetime import datetime as dt #-> Để xử lý data dạng datetime\n",
        "import gspread #-> Để update data lên Google Spreadsheet\n",
        "from gspread_dataframe import set_with_dataframe #-> Để update data lên Google Spreadsheet\n",
        "import pandas as pd #-> Để update data dạng bản\n",
        "import json \n",
        "from oauth2client.service_account import ServiceAccountCredentials #-> Để nhập Google Spreadsheet Credentials\n",
        "import os"
      ],
      "execution_count": 1,
      "outputs": []
    },
    {
      "cell_type": "markdown",
      "metadata": {
        "id": "z7HOk6uMp2K2"
      },
      "source": [
        "## 1. Slack API: User List\n",
        "* Bạn có thể đọc lại về concept API [HERE](https://anhdang.gitbook.io/datacracy/atom/3-data-tools-2/3.2-spotify-api-and-postman)\n",
        "* Assignment này sẽ dùng Slack API để lấy thông tin về Learners và theo dõi các bài tập đã nộp và được review (sau đó cập nhật lên Google Spreadsheet)\n",
        "* ===> **NOTICE**: Slack API authorize bằng Bearer Token `xoxb-...-...-...` (Sẽ được cung cấp riêng)\n",
        "* Update file `env_variable.json` như trong [Assignment#2](../assignment_2/home_assignment_2.ipynb)\n",
        "* ==> Nếu bạn dùng Google Colab, upload file vào Colab ([Hướng dẫn](https://colab.research.google.com/notebooks/io.ipynb))"
      ]
    },
    {
      "cell_type": "code",
      "metadata": {
        "colab": {
          "base_uri": "https://localhost:8080/"
        },
        "id": "YoSEHfdTwYRj",
        "outputId": "02b1f5e1-6f9a-4c2b-a481-33284324d1cc"
      },
      "source": [
        "!dir"
      ],
      "execution_count": 2,
      "outputs": [
        {
          "output_type": "stream",
          "name": "stdout",
          "text": [
            " Volume in drive C is OS\n Volume Serial Number is B610-83C5\n\n Directory of c:\\Users\\Duong\\Documents\\GitHub\\atom-assignments\\assignment_3\n\n05/22/2021  05:21 PM    <DIR>          .\n05/22/2021  05:21 PM    <DIR>          ..\n05/24/2021  01:00 AM               223 env_variable.json\n05/22/2021  05:33 PM            60,761 home_assignment_3.ipynb\n05/22/2021  04:59 PM             2,326 key-assignment-3.json\n05/20/2021  06:39 AM               238 README.md\n               4 File(s)         63,548 bytes\n               2 Dir(s)  21,944,074,240 bytes free\n"
          ]
        }
      ]
    },
    {
      "cell_type": "code",
      "execution_count": 21,
      "metadata": {},
      "outputs": [],
      "source": [
        "import json"
      ]
    },
    {
      "cell_type": "code",
      "metadata": {
        "id": "tFPqT2pirhy4"
      },
      "source": [
        "with open('env_variable.json', 'r') as j:\n",
        "    json_data = json.load(j)\n",
        "    #print(json_data)"
      ],
      "execution_count": 16,
      "outputs": []
    },
    {
      "cell_type": "code",
      "metadata": {
        "id": "wAzmaVTLrpvH"
      },
      "source": [
        "## Load SLACK_BEARER_TOKEN\n",
        "os.environ['SLACK_BEARER_TOKEN'] = json_data['SLACK_BEARER_TOKEN'] "
      ],
      "execution_count": 17,
      "outputs": []
    },
    {
      "cell_type": "code",
      "metadata": {
        "id": "K_TrDTx138jD",
        "tags": [
          "outputPrepend"
        ]
      },
      "source": [
        "## Gọi API từ Endpoints (Input - Token được đưa vào Headers)\n",
        "## Challenge: Thử gọi API này bằng Postman\n",
        "endpoint = \"https://slack.com/api/users.list\"\n",
        "headers = {\"Authorization\": \"Bearer {}\".format(os.environ['SLACK_BEARER_TOKEN'])}\n",
        "response_json = requests.post(endpoint, headers=headers).json() \n",
        "print(response_json)\n",
        "user_dat = response_json['members']"
      ],
      "execution_count": 18,
      "outputs": [
        {
          "output_type": "stream",
          "name": "stdout",
          "text": [
            " 'T01B7SGGMLJ', 'name': 'huongntn2202', 'deleted': False, 'color': '674b1b', 'real_name': 'Huong Nguyen Thi Nhi', 'tz': 'Asia/Bangkok', 'tz_label': 'Indochina Time', 'tz_offset': 25200, 'profile': {'title': '', 'phone': '', 'skype': '', 'real_name': 'Huong Nguyen Thi Nhi', 'real_name_normalized': 'Huong Nguyen Thi Nhi', 'display_name': '', 'display_name_normalized': '', 'fields': None, 'status_text': '', 'status_emoji': '', 'status_expiration': 0, 'avatar_hash': 'g8113195cce9', 'image_24': 'https://secure.gravatar.com/avatar/8113195cce95637d2736ea73399168d8.jpg?s=24&d=https%3A%2F%2Fa.slack-edge.com%2Fdf10d%2Fimg%2Favatars%2Fava_0007-24.png', 'image_32': 'https://secure.gravatar.com/avatar/8113195cce95637d2736ea73399168d8.jpg?s=32&d=https%3A%2F%2Fa.slack-edge.com%2Fdf10d%2Fimg%2Favatars%2Fava_0007-32.png', 'image_48': 'https://secure.gravatar.com/avatar/8113195cce95637d2736ea73399168d8.jpg?s=48&d=https%3A%2F%2Fa.slack-edge.com%2Fdf10d%2Fimg%2Favatars%2Fava_0007-48.png', 'image_72': 'https://secure.gravatar.com/avatar/8113195cce95637d2736ea73399168d8.jpg?s=72&d=https%3A%2F%2Fa.slack-edge.com%2Fdf10d%2Fimg%2Favatars%2Fava_0007-72.png', 'image_192': 'https://secure.gravatar.com/avatar/8113195cce95637d2736ea73399168d8.jpg?s=192&d=https%3A%2F%2Fa.slack-edge.com%2Fdf10d%2Fimg%2Favatars%2Fava_0007-192.png', 'image_512': 'https://secure.gravatar.com/avatar/8113195cce95637d2736ea73399168d8.jpg?s=512&d=https%3A%2F%2Fa.slack-edge.com%2Fdf10d%2Fimg%2Favatars%2Fava_0007-512.png', 'status_text_canonical': '', 'team': 'T01B7SGGMLJ'}, 'is_admin': False, 'is_owner': False, 'is_primary_owner': False, 'is_restricted': False, 'is_ultra_restricted': False, 'is_bot': False, 'is_app_user': False, 'updated': 1619409574, 'is_email_confirmed': True}, {'id': 'U021NF9FMPH', 'team_id': 'T01B7SGGMLJ', 'name': 'ngochant', 'deleted': True, 'profile': {'title': '', 'phone': '', 'skype': '', 'real_name': 'ngochant', 'real_name_normalized': 'ngochant', 'display_name': '', 'display_name_normalized': '', 'fields': None, 'status_text': '', 'status_emoji': '', 'status_expiration': 0, 'avatar_hash': 'g0823dc0128f', 'api_app_id': 'A021NCWKYR5', 'always_active': False, 'bot_id': 'B0223ET64SF', 'first_name': 'ngochant', 'last_name': '', 'image_24': 'https://secure.gravatar.com/avatar/0823dc0128f48c06a4c0e2ea08784b6d.jpg?s=24&d=https%3A%2F%2Fa.slack-edge.com%2Fdf10d%2Fimg%2Favatars%2Fava_0007-24.png', 'image_32': 'https://secure.gravatar.com/avatar/0823dc0128f48c06a4c0e2ea08784b6d.jpg?s=32&d=https%3A%2F%2Fa.slack-edge.com%2Fdf10d%2Fimg%2Favatars%2Fava_0007-32.png', 'image_48': 'https://secure.gravatar.com/avatar/0823dc0128f48c06a4c0e2ea08784b6d.jpg?s=48&d=https%3A%2F%2Fa.slack-edge.com%2Fdf10d%2Fimg%2Favatars%2Fava_0007-48.png', 'image_72': 'https://secure.gravatar.com/avatar/0823dc0128f48c06a4c0e2ea08784b6d.jpg?s=72&d=https%3A%2F%2Fa.slack-edge.com%2Fdf10d%2Fimg%2Favatars%2Fava_0007-72.png', 'image_192': 'https://secure.gravatar.com/avatar/0823dc0128f48c06a4c0e2ea08784b6d.jpg?s=192&d=https%3A%2F%2Fa.slack-edge.com%2Fdf10d%2Fimg%2Favatars%2Fava_0007-192.png', 'image_512': 'https://secure.gravatar.com/avatar/0823dc0128f48c06a4c0e2ea08784b6d.jpg?s=512&d=https%3A%2F%2Fa.slack-edge.com%2Fdf10d%2Fimg%2Favatars%2Fava_0007-512.png', 'status_text_canonical': '', 'team': 'T01B7SGGMLJ'}, 'is_bot': True, 'is_app_user': False, 'updated': 1621856668}, {'id': 'U021TFMH1RU', 'team_id': 'T01B7SGGMLJ', 'name': 'mquang.151999', 'deleted': False, 'color': 'e0a729', 'real_name': 'Quang Nguyen', 'tz': 'Asia/Bangkok', 'tz_label': 'Indochina Time', 'tz_offset': 25200, 'profile': {'title': '', 'phone': '', 'skype': '', 'real_name': 'Quang Nguyen', 'real_name_normalized': 'Quang Nguyen', 'display_name': 'Quang Nguyen', 'display_name_normalized': 'Quang Nguyen', 'fields': None, 'status_text': '', 'status_emoji': '', 'status_expiration': 0, 'avatar_hash': 'g1c0825ac54f', 'image_24': 'https://secure.gravatar.com/avatar/1c0825ac54fb81361b0d6c82bb67fc66.jpg?s=24&d=https%3A%2F%2Fa.slack-edge.com%2Fdf10d%2Fimg%2Favatars%2Fava_0026-24.png', 'image_32': 'https://secure.gravatar.com/avatar/1c0825ac54fb81361b0d6c82bb67fc66.jpg?s=32&d=https%3A%2F%2Fa.slack-edge.com%2Fdf10d%2Fimg%2Favatars%2Fava_0026-32.png', 'image_48': 'https://secure.gravatar.com/avatar/1c0825ac54fb81361b0d6c82bb67fc66.jpg?s=48&d=https%3A%2F%2Fa.slack-edge.com%2Fdf10d%2Fimg%2Favatars%2Fava_0026-48.png', 'image_72': 'https://secure.gravatar.com/avatar/1c0825ac54fb81361b0d6c82bb67fc66.jpg?s=72&d=https%3A%2F%2Fa.slack-edge.com%2Fdf10d%2Fimg%2Favatars%2Fava_0026-72.png', 'image_192': 'https://secure.gravatar.com/avatar/1c0825ac54fb81361b0d6c82bb67fc66.jpg?s=192&d=https%3A%2F%2Fa.slack-edge.com%2Fdf10d%2Fimg%2Favatars%2Fava_0026-192.png', 'image_512': 'https://secure.gravatar.com/avatar/1c0825ac54fb81361b0d6c82bb67fc66.jpg?s=512&d=https%3A%2F%2Fa.slack-edge.com%2Fdf10d%2Fimg%2Favatars%2Fava_0026-512.png', 'status_text_canonical': '', 'team': 'T01B7SGGMLJ'}, 'is_admin': False, 'is_owner': False, 'is_primary_owner': False, 'is_restricted': False, 'is_ultra_restricted': False, 'is_bot': False, 'is_app_user': False, 'updated': 1621046249, 'is_email_confirmed': True}, {'id': 'U021Y57RMN1', 'team_id': 'T01B7SGGMLJ', 'name': 'lamlv723', 'deleted': False, 'color': '5b89d5', 'real_name': 'Lâm Lê', 'tz': 'Asia/Bangkok', 'tz_label': 'Indochina Time', 'tz_offset': 25200, 'profile': {'title': '', 'phone': '', 'skype': '', 'real_name': 'Lâm Lê', 'real_name_normalized': 'Lam Le', 'display_name': 'Lâm Lê', 'display_name_normalized': 'Lam Le', 'fields': None, 'status_text': '', 'status_emoji': '', 'status_expiration': 0, 'avatar_hash': '73cf448f226a', 'image_original': 'https://avatars.slack-edge.com/2021-05-15/2054484743655_73cf448f226a25744ba9_original.jpg', 'is_custom_image': True, 'image_24': 'https://avatars.slack-edge.com/2021-05-15/2054484743655_73cf448f226a25744ba9_24.jpg', 'image_32': 'https://avatars.slack-edge.com/2021-05-15/2054484743655_73cf448f226a25744ba9_32.jpg', 'image_48': 'https://avatars.slack-edge.com/2021-05-15/2054484743655_73cf448f226a25744ba9_48.jpg', 'image_72': 'https://avatars.slack-edge.com/2021-05-15/2054484743655_73cf448f226a25744ba9_72.jpg', 'image_192': 'https://avatars.slack-edge.com/2021-05-15/2054484743655_73cf448f226a25744ba9_192.jpg', 'image_512': 'https://avatars.slack-edge.com/2021-05-15/2054484743655_73cf448f226a25744ba9_512.jpg', 'image_1024': 'https://avatars.slack-edge.com/2021-05-15/2054484743655_73cf448f226a25744ba9_1024.jpg', 'status_text_canonical': '', 'team': 'T01B7SGGMLJ'}, 'is_admin': False, 'is_owner': False, 'is_primary_owner': False, 'is_restricted': False, 'is_ultra_restricted': False, 'is_bot': False, 'is_app_user': False, 'updated': 1621134074, 'is_email_confirmed': True}, {'id': 'U02246KN5D1', 'team_id': 'T01B7SGGMLJ', 'name': 'conversationslist', 'deleted': True, 'profile': {'title': '', 'phone': '', 'skype': '', 'real_name': '/conversations.list', 'real_name_normalized': '/conversations.list', 'display_name': '', 'display_name_normalized': '', 'fields': None, 'status_text': '', 'status_emoji': '', 'status_expiration': 0, 'avatar_hash': 'gf455d759ea9', 'api_app_id': 'A02246BLA1Z', 'always_active': False, 'bot_id': 'B02240BHX5G', 'first_name': '/conversations.list', 'last_name': '', 'image_24': 'https://secure.gravatar.com/avatar/f455d759ea9019fc97f9257dd56b34aa.jpg?s=24&d=https%3A%2F%2Fa.slack-edge.com%2Fdf10d%2Fimg%2Favatars%2Fava_0008-24.png', 'image_32': 'https://secure.gravatar.com/avatar/f455d759ea9019fc97f9257dd56b34aa.jpg?s=32&d=https%3A%2F%2Fa.slack-edge.com%2Fdf10d%2Fimg%2Favatars%2Fava_0008-32.png', 'image_48': 'https://secure.gravatar.com/avatar/f455d759ea9019fc97f9257dd56b34aa.jpg?s=48&d=https%3A%2F%2Fa.slack-edge.com%2Fdf10d%2Fimg%2Favatars%2Fava_0008-48.png', 'image_72': 'https://secure.gravatar.com/avatar/f455d759ea9019fc97f9257dd56b34aa.jpg?s=72&d=https%3A%2F%2Fa.slack-edge.com%2Fdf10d%2Fimg%2Favatars%2Fava_0008-72.png', 'image_192': 'https://secure.gravatar.com/avatar/f455d759ea9019fc97f9257dd56b34aa.jpg?s=192&d=https%3A%2F%2Fa.slack-edge.com%2Fdf10d%2Fimg%2Favatars%2Fava_0008-192.png', 'image_512': 'https://secure.gravatar.com/avatar/f455d759ea9019fc97f9257dd56b34aa.jpg?s=512&d=https%3A%2F%2Fa.slack-edge.com%2Fdf10d%2Fimg%2Favatars%2Fava_0008-512.png', 'status_text_canonical': '', 'team': 'T01B7SGGMLJ'}, 'is_bot': True, 'is_app_user': False, 'updated': 1621856607}, {'id': 'U0226MQ73MJ', 'team_id': 'T01B7SGGMLJ', 'name': 'mad', 'deleted': False, 'color': '684b6c', 'real_name': 'MAD', 'tz': 'America/Los_Angeles', 'tz_label': 'Pacific Daylight Time', 'tz_offset': -25200, 'profile': {'title': '', 'phone': '', 'skype': '', 'real_name': 'MAD', 'real_name_normalized': 'MAD', 'display_name': '', 'display_name_normalized': '', 'fields': None, 'status_text': '', 'status_emoji': '', 'status_expiration': 0, 'avatar_hash': 'ga147329c4ca', 'api_app_id': 'A0220GDHWJW', 'always_active': False, 'bot_id': 'B022QB4TL9W', 'first_name': 'MAD', 'last_name': '', 'image_24': 'https://secure.gravatar.com/avatar/a147329c4ca6735286d053d06784665c.jpg?s=24&d=https%3A%2F%2Fa.slack-edge.com%2Fdf10d%2Fimg%2Favatars%2Fava_0001-24.png', 'image_32': 'https://secure.gravatar.com/avatar/a147329c4ca6735286d053d06784665c.jpg?s=32&d=https%3A%2F%2Fa.slack-edge.com%2Fdf10d%2Fimg%2Favatars%2Fava_0001-32.png', 'image_48': 'https://secure.gravatar.com/avatar/a147329c4ca6735286d053d06784665c.jpg?s=48&d=https%3A%2F%2Fa.slack-edge.com%2Fdf10d%2Fimg%2Favatars%2Fava_0001-48.png', 'image_72': 'https://secure.gravatar.com/avatar/a147329c4ca6735286d053d06784665c.jpg?s=72&d=https%3A%2F%2Fa.slack-edge.com%2Fdf10d%2Fimg%2Favatars%2Fava_0001-72.png', 'image_192': 'https://secure.gravatar.com/avatar/a147329c4ca6735286d053d06784665c.jpg?s=192&d=https%3A%2F%2Fa.slack-edge.com%2Fdf10d%2Fimg%2Favatars%2Fava_0001-192.png', 'image_512': 'https://secure.gravatar.com/avatar/a147329c4ca6735286d053d06784665c.jpg?s=512&d=https%3A%2F%2Fa.slack-edge.com%2Fdf10d%2Fimg%2Favatars%2Fava_0001-512.png', 'status_text_canonical': '', 'team': 'T01B7SGGMLJ'}, 'is_admin': False, 'is_owner': False, 'is_primary_owner': False, 'is_restricted': False, 'is_ultra_restricted': False, 'is_bot': True, 'is_app_user': False, 'updated': 1621856755, 'is_email_confirmed': False}, {'id': 'U022BEV3FEW', 'team_id': 'T01B7SGGMLJ', 'name': 'convhist', 'deleted': True, 'profile': {'title': '', 'phone': '', 'skype': '', 'real_name': 'conv.hist', 'real_name_normalized': 'conv.hist', 'display_name': '', 'display_name_normalized': '', 'fields': None, 'status_text': '', 'status_emoji': '', 'status_expiration': 0, 'avatar_hash': 'ga71d9b3bda0', 'api_app_id': 'A022Q3GUJTB', 'always_active': False, 'bot_id': 'B022BM39LSF', 'first_name': 'conv.hist', 'last_name': '', 'image_24': 'https://secure.gravatar.com/avatar/a71d9b3bda0aecbd692b6eb0de33f162.jpg?s=24&d=https%3A%2F%2Fa.slack-edge.com%2Fdf10d%2Fimg%2Favatars%2Fava_0002-24.png', 'image_32': 'https://secure.gravatar.com/avatar/a71d9b3bda0aecbd692b6eb0de33f162.jpg?s=32&d=https%3A%2F%2Fa.slack-edge.com%2Fdf10d%2Fimg%2Favatars%2Fava_0002-32.png', 'image_48': 'https://secure.gravatar.com/avatar/a71d9b3bda0aecbd692b6eb0de33f162.jpg?s=48&d=https%3A%2F%2Fa.slack-edge.com%2Fdf10d%2Fimg%2Favatars%2Fava_0002-48.png', 'image_72': 'https://secure.gravatar.com/avatar/a71d9b3bda0aecbd692b6eb0de33f162.jpg?s=72&d=https%3A%2F%2Fa.slack-edge.com%2Fdf10d%2Fimg%2Favatars%2Fava_0002-72.png', 'image_192': 'https://secure.gravatar.com/avatar/a71d9b3bda0aecbd692b6eb0de33f162.jpg?s=192&d=https%3A%2F%2Fa.slack-edge.com%2Fdf10d%2Fimg%2Favatars%2Fava_0002-192.png', 'image_512': 'https://secure.gravatar.com/avatar/a71d9b3bda0aecbd692b6eb0de33f162.jpg?s=512&d=https%3A%2F%2Fa.slack-edge.com%2Fdf10d%2Fimg%2Favatars%2Fava_0002-512.png', 'status_text_canonical': '', 'team': 'T01B7SGGMLJ'}, 'is_bot': True, 'is_app_user': False, 'updated': 1621856713}, {'id': 'U022J0SQAMQ', 'team_id': 'T01B7SGGMLJ', 'name': 'abc', 'deleted': True, 'profile': {'title': '', 'phone': '', 'skype': '', 'real_name': 'abc', 'real_name_normalized': 'abc', 'display_name': '', 'display_name_normalized': '', 'fields': None, 'status_text': '', 'status_emoji': '', 'status_expiration': 0, 'avatar_hash': 'gc61c18c89c7', 'api_app_id': 'A022B6B3F8W', 'always_active': False, 'bot_id': 'B022B7ANQES', 'image_24': 'https://secure.gravatar.com/avatar/c61c18c89c7377a9e2da92cae356da39.jpg?s=24&d=https%3A%2F%2Fa.slack-edge.com%2Fdf10d%2Fimg%2Favatars%2Fava_0025-24.png', 'image_32': 'https://secure.gravatar.com/avatar/c61c18c89c7377a9e2da92cae356da39.jpg?s=32&d=https%3A%2F%2Fa.slack-edge.com%2Fdf10d%2Fimg%2Favatars%2Fava_0025-32.png', 'image_48': 'https://secure.gravatar.com/avatar/c61c18c89c7377a9e2da92cae356da39.jpg?s=48&d=https%3A%2F%2Fa.slack-edge.com%2Fdf10d%2Fimg%2Favatars%2Fava_0025-48.png', 'image_72': 'https://secure.gravatar.com/avatar/c61c18c89c7377a9e2da92cae356da39.jpg?s=72&d=https%3A%2F%2Fa.slack-edge.com%2Fdf10d%2Fimg%2Favatars%2Fava_0025-72.png', 'image_192': 'https://secure.gravatar.com/avatar/c61c18c89c7377a9e2da92cae356da39.jpg?s=192&d=https%3A%2F%2Fa.slack-edge.com%2Fdf10d%2Fimg%2Favatars%2Fava_0025-192.png', 'image_512': 'https://secure.gravatar.com/avatar/c61c18c89c7377a9e2da92cae356da39.jpg?s=512&d=https%3A%2F%2Fa.slack-edge.com%2Fdf10d%2Fimg%2Favatars%2Fava_0025-512.png', 'status_text_canonical': '', 'team': 'T01B7SGGMLJ'}, 'is_bot': True, 'is_app_user': False, 'updated': 1621856631}, {'id': 'U022R4885AN', 'team_id': 'T01B7SGGMLJ', 'name': '78', 'deleted': True, 'profile': {'title': '', 'phone': '', 'skype': '', 'real_name': '78', 'real_name_normalized': '78', 'display_name': '', 'display_name_normalized': '', 'fields': None, 'status_text': '', 'status_emoji': '', 'status_expiration': 0, 'avatar_hash': 'gd082bd59567', 'api_app_id': 'A023ETPS7SL', 'always_active': False, 'bot_id': 'B022RAGK81H', 'image_24': 'https://secure.gravatar.com/avatar/d082bd595679aa34ea6a9f759c743664.jpg?s=24&d=https%3A%2F%2Fa.slack-edge.com%2Fdf10d%2Fimg%2Favatars%2Fava_0018-24.png', 'image_32': 'https://secure.gravatar.com/avatar/d082bd595679aa34ea6a9f759c743664.jpg?s=32&d=https%3A%2F%2Fa.slack-edge.com%2Fdf10d%2Fimg%2Favatars%2Fava_0018-32.png', 'image_48': 'https://secure.gravatar.com/avatar/d082bd595679aa34ea6a9f759c743664.jpg?s=48&d=https%3A%2F%2Fa.slack-edge.com%2Fdf10d%2Fimg%2Favatars%2Fava_0018-48.png', 'image_72': 'https://secure.gravatar.com/avatar/d082bd595679aa34ea6a9f759c743664.jpg?s=72&d=https%3A%2F%2Fa.slack-edge.com%2Fdf10d%2Fimg%2Favatars%2Fava_0018-72.png', 'image_192': 'https://secure.gravatar.com/avatar/d082bd595679aa34ea6a9f759c743664.jpg?s=192&d=https%3A%2F%2Fa.slack-edge.com%2Fdf10d%2Fimg%2Favatars%2Fava_0018-192.png', 'image_512': 'https://secure.gravatar.com/avatar/d082bd595679aa34ea6a9f759c743664.jpg?s=512&d=https%3A%2F%2Fa.slack-edge.com%2Fdf10d%2Fimg%2Favatars%2Fava_0018-512.png', 'status_text_canonical': '', 'team': 'T01B7SGGMLJ'}, 'is_bot': True, 'is_app_user': False, 'updated': 1621856620}, {'id': 'U0233KHLM2M', 'team_id': 'T01B7SGGMLJ', 'name': 'vuthanhdat.contact', 'deleted': False, 'color': 'd58247', 'real_name': 'Vuthanhdat Contact', 'tz': 'Asia/Bangkok', 'tz_label': 'Indochina Time', 'tz_offset': 25200, 'profile': {'title': '', 'phone': '', 'skype': '', 'real_name': 'Vuthanhdat Contact', 'real_name_normalized': 'Vuthanhdat Contact', 'display_name': '', 'display_name_normalized': '', 'fields': None, 'status_text': '', 'status_emoji': '', 'status_expiration': 0, 'avatar_hash': 'g72ade5f0a21', 'image_24': 'https://secure.gravatar.com/avatar/72ade5f0a2147dfa9516ec249642979f.jpg?s=24&d=https%3A%2F%2Fa.slack-edge.com%2Fdf10d%2Fimg%2Favatars%2Fava_0007-24.png', 'image_32': 'https://secure.gravatar.com/avatar/72ade5f0a2147dfa9516ec249642979f.jpg?s=32&d=https%3A%2F%2Fa.slack-edge.com%2Fdf10d%2Fimg%2Favatars%2Fava_0007-32.png', 'image_48': 'https://secure.gravatar.com/avatar/72ade5f0a2147dfa9516ec249642979f.jpg?s=48&d=https%3A%2F%2Fa.slack-edge.com%2Fdf10d%2Fimg%2Favatars%2Fava_0007-48.png', 'image_72': 'https://secure.gravatar.com/avatar/72ade5f0a2147dfa9516ec249642979f.jpg?s=72&d=https%3A%2F%2Fa.slack-edge.com%2Fdf10d%2Fimg%2Favatars%2Fava_0007-72.png', 'image_192': 'https://secure.gravatar.com/avatar/72ade5f0a2147dfa9516ec249642979f.jpg?s=192&d=https%3A%2F%2Fa.slack-edge.com%2Fdf10d%2Fimg%2Favatars%2Fava_0007-192.png', 'image_512': 'https://secure.gravatar.com/avatar/72ade5f0a2147dfa9516ec249642979f.jpg?s=512&d=https%3A%2F%2Fa.slack-edge.com%2Fdf10d%2Fimg%2Favatars%2Fava_0007-512.png', 'status_text_canonical': '', 'team': 'T01B7SGGMLJ'}, 'is_admin': False, 'is_owner': False, 'is_primary_owner': False, 'is_restricted': False, 'is_ultra_restricted': False, 'is_bot': False, 'is_app_user': False, 'updated': 1621649389, 'is_email_confirmed': False, 'is_invited_user': True}, {'id': 'U023E0BAHQ8', 'team_id': 'T01B7SGGMLJ', 'name': 'testgettoken', 'deleted': True, 'profile': {'title': '', 'phone': '', 'skype': '', 'real_name': 'test.gettoken', 'real_name_normalized': 'test.gettoken', 'display_name': '', 'display_name_normalized': '', 'fields': None, 'status_text': '', 'status_emoji': '', 'status_expiration': 0, 'avatar_hash': 'gc28c6476803', 'api_app_id': 'A022HBW1Z9U', 'always_active': True, 'bot_id': 'B022WAYRETW', 'first_name': 'test.gettoken', 'last_name': '', 'image_24': 'https://secure.gravatar.com/avatar/c28c647680342591290d4dca604303d5.jpg?s=24&d=https%3A%2F%2Fa.slack-edge.com%2Fdf10d%2Fimg%2Favatars%2Fava_0020-24.png', 'image_32': 'https://secure.gravatar.com/avatar/c28c647680342591290d4dca604303d5.jpg?s=32&d=https%3A%2F%2Fa.slack-edge.com%2Fdf10d%2Fimg%2Favatars%2Fava_0020-32.png', 'image_48': 'https://secure.gravatar.com/avatar/c28c647680342591290d4dca604303d5.jpg?s=48&d=https%3A%2F%2Fa.slack-edge.com%2Fdf10d%2Fimg%2Favatars%2Fava_0020-48.png', 'image_72': 'https://secure.gravatar.com/avatar/c28c647680342591290d4dca604303d5.jpg?s=72&d=https%3A%2F%2Fa.slack-edge.com%2Fdf10d%2Fimg%2Favatars%2Fava_0020-72.png', 'image_192': 'https://secure.gravatar.com/avatar/c28c647680342591290d4dca604303d5.jpg?s=192&d=https%3A%2F%2Fa.slack-edge.com%2Fdf10d%2Fimg%2Favatars%2Fava_0020-192.png', 'image_512': 'https://secure.gravatar.com/avatar/c28c647680342591290d4dca604303d5.jpg?s=512&d=https%3A%2F%2Fa.slack-edge.com%2Fdf10d%2Fimg%2Favatars%2Fava_0020-512.png', 'status_text_canonical': '', 'team': 'T01B7SGGMLJ'}, 'is_bot': True, 'is_app_user': False, 'updated': 1621856654}, {'id': 'U023G7HDUL8', 'team_id': 'T01B7SGGMLJ', 'name': 'ass4', 'deleted': True, 'profile': {'title': '', 'phone': '', 'skype': '', 'real_name': 'Ass4', 'real_name_normalized': 'Ass4', 'display_name': '', 'display_name_normalized': '', 'fields': None, 'status_text': '', 'status_emoji': '', 'status_expiration': 0, 'avatar_hash': 'g9a7abdbdcd7', 'api_app_id': 'A022SD34Z18', 'always_active': False, 'bot_id': 'B022SDBMGQ2', 'first_name': 'Ass4', 'last_name': '', 'image_24': 'https://secure.gravatar.com/avatar/9a7abdbdcd72745e71d5c81f13292e7f.jpg?s=24&d=https%3A%2F%2Fa.slack-edge.com%2Fdf10d%2Fimg%2Favatars%2Fava_0024-24.png', 'image_32': 'https://secure.gravatar.com/avatar/9a7abdbdcd72745e71d5c81f13292e7f.jpg?s=32&d=https%3A%2F%2Fa.slack-edge.com%2Fdf10d%2Fimg%2Favatars%2Fava_0024-32.png', 'image_48': 'https://secure.gravatar.com/avatar/9a7abdbdcd72745e71d5c81f13292e7f.jpg?s=48&d=https%3A%2F%2Fa.slack-edge.com%2Fdf10d%2Fimg%2Favatars%2Fava_0024-48.png', 'image_72': 'https://secure.gravatar.com/avatar/9a7abdbdcd72745e71d5c81f13292e7f.jpg?s=72&d=https%3A%2F%2Fa.slack-edge.com%2Fdf10d%2Fimg%2Favatars%2Fava_0024-72.png', 'image_192': 'https://secure.gravatar.com/avatar/9a7abdbdcd72745e71d5c81f13292e7f.jpg?s=192&d=https%3A%2F%2Fa.slack-edge.com%2Fdf10d%2Fimg%2Favatars%2Fava_0024-192.png', 'image_512': 'https://secure.gravatar.com/avatar/9a7abdbdcd72745e71d5c81f13292e7f.jpg?s=512&d=https%3A%2F%2Fa.slack-edge.com%2Fdf10d%2Fimg%2Favatars%2Fava_0024-512.png', 'status_text_canonical': '', 'team': 'T01B7SGGMLJ'}, 'is_bot': True, 'is_app_user': False, 'updated': 1621856695}], 'cache_ts': 1621870176, 'response_metadata': {'next_cursor': ''}}\n"
          ]
        }
      ]
    },
    {
      "cell_type": "markdown",
      "metadata": {
        "id": "rqEti4Y50tdB"
      },
      "source": [
        "### TODO #1\n",
        "Hoàn tất đoạn code sau"
      ]
    },
    {
      "cell_type": "code",
      "execution_count": 19,
      "metadata": {
        "tags": [
          "outputPrepend"
        ]
      },
      "outputs": [
        {
          "output_type": "stream",
          "name": "stdout",
          "text": [
            "9844, 'is_email_confirmed': True}, {'id': 'U020P877V88', 'team_id': 'T01B7SGGMLJ', 'name': 'huongntn2202', 'deleted': False, 'color': '674b1b', 'real_name': 'Huong Nguyen Thi Nhi', 'tz': 'Asia/Bangkok', 'tz_label': 'Indochina Time', 'tz_offset': 25200, 'profile': {'title': '', 'phone': '', 'skype': '', 'real_name': 'Huong Nguyen Thi Nhi', 'real_name_normalized': 'Huong Nguyen Thi Nhi', 'display_name': '', 'display_name_normalized': '', 'fields': None, 'status_text': '', 'status_emoji': '', 'status_expiration': 0, 'avatar_hash': 'g8113195cce9', 'image_24': 'https://secure.gravatar.com/avatar/8113195cce95637d2736ea73399168d8.jpg?s=24&d=https%3A%2F%2Fa.slack-edge.com%2Fdf10d%2Fimg%2Favatars%2Fava_0007-24.png', 'image_32': 'https://secure.gravatar.com/avatar/8113195cce95637d2736ea73399168d8.jpg?s=32&d=https%3A%2F%2Fa.slack-edge.com%2Fdf10d%2Fimg%2Favatars%2Fava_0007-32.png', 'image_48': 'https://secure.gravatar.com/avatar/8113195cce95637d2736ea73399168d8.jpg?s=48&d=https%3A%2F%2Fa.slack-edge.com%2Fdf10d%2Fimg%2Favatars%2Fava_0007-48.png', 'image_72': 'https://secure.gravatar.com/avatar/8113195cce95637d2736ea73399168d8.jpg?s=72&d=https%3A%2F%2Fa.slack-edge.com%2Fdf10d%2Fimg%2Favatars%2Fava_0007-72.png', 'image_192': 'https://secure.gravatar.com/avatar/8113195cce95637d2736ea73399168d8.jpg?s=192&d=https%3A%2F%2Fa.slack-edge.com%2Fdf10d%2Fimg%2Favatars%2Fava_0007-192.png', 'image_512': 'https://secure.gravatar.com/avatar/8113195cce95637d2736ea73399168d8.jpg?s=512&d=https%3A%2F%2Fa.slack-edge.com%2Fdf10d%2Fimg%2Favatars%2Fava_0007-512.png', 'status_text_canonical': '', 'team': 'T01B7SGGMLJ'}, 'is_admin': False, 'is_owner': False, 'is_primary_owner': False, 'is_restricted': False, 'is_ultra_restricted': False, 'is_bot': False, 'is_app_user': False, 'updated': 1619409574, 'is_email_confirmed': True}, {'id': 'U021NF9FMPH', 'team_id': 'T01B7SGGMLJ', 'name': 'ngochant', 'deleted': True, 'profile': {'title': '', 'phone': '', 'skype': '', 'real_name': 'ngochant', 'real_name_normalized': 'ngochant', 'display_name': '', 'display_name_normalized': '', 'fields': None, 'status_text': '', 'status_emoji': '', 'status_expiration': 0, 'avatar_hash': 'g0823dc0128f', 'api_app_id': 'A021NCWKYR5', 'always_active': False, 'bot_id': 'B0223ET64SF', 'first_name': 'ngochant', 'last_name': '', 'image_24': 'https://secure.gravatar.com/avatar/0823dc0128f48c06a4c0e2ea08784b6d.jpg?s=24&d=https%3A%2F%2Fa.slack-edge.com%2Fdf10d%2Fimg%2Favatars%2Fava_0007-24.png', 'image_32': 'https://secure.gravatar.com/avatar/0823dc0128f48c06a4c0e2ea08784b6d.jpg?s=32&d=https%3A%2F%2Fa.slack-edge.com%2Fdf10d%2Fimg%2Favatars%2Fava_0007-32.png', 'image_48': 'https://secure.gravatar.com/avatar/0823dc0128f48c06a4c0e2ea08784b6d.jpg?s=48&d=https%3A%2F%2Fa.slack-edge.com%2Fdf10d%2Fimg%2Favatars%2Fava_0007-48.png', 'image_72': 'https://secure.gravatar.com/avatar/0823dc0128f48c06a4c0e2ea08784b6d.jpg?s=72&d=https%3A%2F%2Fa.slack-edge.com%2Fdf10d%2Fimg%2Favatars%2Fava_0007-72.png', 'image_192': 'https://secure.gravatar.com/avatar/0823dc0128f48c06a4c0e2ea08784b6d.jpg?s=192&d=https%3A%2F%2Fa.slack-edge.com%2Fdf10d%2Fimg%2Favatars%2Fava_0007-192.png', 'image_512': 'https://secure.gravatar.com/avatar/0823dc0128f48c06a4c0e2ea08784b6d.jpg?s=512&d=https%3A%2F%2Fa.slack-edge.com%2Fdf10d%2Fimg%2Favatars%2Fava_0007-512.png', 'status_text_canonical': '', 'team': 'T01B7SGGMLJ'}, 'is_bot': True, 'is_app_user': False, 'updated': 1621856668}, {'id': 'U021TFMH1RU', 'team_id': 'T01B7SGGMLJ', 'name': 'mquang.151999', 'deleted': False, 'color': 'e0a729', 'real_name': 'Quang Nguyen', 'tz': 'Asia/Bangkok', 'tz_label': 'Indochina Time', 'tz_offset': 25200, 'profile': {'title': '', 'phone': '', 'skype': '', 'real_name': 'Quang Nguyen', 'real_name_normalized': 'Quang Nguyen', 'display_name': 'Quang Nguyen', 'display_name_normalized': 'Quang Nguyen', 'fields': None, 'status_text': '', 'status_emoji': '', 'status_expiration': 0, 'avatar_hash': 'g1c0825ac54f', 'image_24': 'https://secure.gravatar.com/avatar/1c0825ac54fb81361b0d6c82bb67fc66.jpg?s=24&d=https%3A%2F%2Fa.slack-edge.com%2Fdf10d%2Fimg%2Favatars%2Fava_0026-24.png', 'image_32': 'https://secure.gravatar.com/avatar/1c0825ac54fb81361b0d6c82bb67fc66.jpg?s=32&d=https%3A%2F%2Fa.slack-edge.com%2Fdf10d%2Fimg%2Favatars%2Fava_0026-32.png', 'image_48': 'https://secure.gravatar.com/avatar/1c0825ac54fb81361b0d6c82bb67fc66.jpg?s=48&d=https%3A%2F%2Fa.slack-edge.com%2Fdf10d%2Fimg%2Favatars%2Fava_0026-48.png', 'image_72': 'https://secure.gravatar.com/avatar/1c0825ac54fb81361b0d6c82bb67fc66.jpg?s=72&d=https%3A%2F%2Fa.slack-edge.com%2Fdf10d%2Fimg%2Favatars%2Fava_0026-72.png', 'image_192': 'https://secure.gravatar.com/avatar/1c0825ac54fb81361b0d6c82bb67fc66.jpg?s=192&d=https%3A%2F%2Fa.slack-edge.com%2Fdf10d%2Fimg%2Favatars%2Fava_0026-192.png', 'image_512': 'https://secure.gravatar.com/avatar/1c0825ac54fb81361b0d6c82bb67fc66.jpg?s=512&d=https%3A%2F%2Fa.slack-edge.com%2Fdf10d%2Fimg%2Favatars%2Fava_0026-512.png', 'status_text_canonical': '', 'team': 'T01B7SGGMLJ'}, 'is_admin': False, 'is_owner': False, 'is_primary_owner': False, 'is_restricted': False, 'is_ultra_restricted': False, 'is_bot': False, 'is_app_user': False, 'updated': 1621046249, 'is_email_confirmed': True}, {'id': 'U021Y57RMN1', 'team_id': 'T01B7SGGMLJ', 'name': 'lamlv723', 'deleted': False, 'color': '5b89d5', 'real_name': 'Lâm Lê', 'tz': 'Asia/Bangkok', 'tz_label': 'Indochina Time', 'tz_offset': 25200, 'profile': {'title': '', 'phone': '', 'skype': '', 'real_name': 'Lâm Lê', 'real_name_normalized': 'Lam Le', 'display_name': 'Lâm Lê', 'display_name_normalized': 'Lam Le', 'fields': None, 'status_text': '', 'status_emoji': '', 'status_expiration': 0, 'avatar_hash': '73cf448f226a', 'image_original': 'https://avatars.slack-edge.com/2021-05-15/2054484743655_73cf448f226a25744ba9_original.jpg', 'is_custom_image': True, 'image_24': 'https://avatars.slack-edge.com/2021-05-15/2054484743655_73cf448f226a25744ba9_24.jpg', 'image_32': 'https://avatars.slack-edge.com/2021-05-15/2054484743655_73cf448f226a25744ba9_32.jpg', 'image_48': 'https://avatars.slack-edge.com/2021-05-15/2054484743655_73cf448f226a25744ba9_48.jpg', 'image_72': 'https://avatars.slack-edge.com/2021-05-15/2054484743655_73cf448f226a25744ba9_72.jpg', 'image_192': 'https://avatars.slack-edge.com/2021-05-15/2054484743655_73cf448f226a25744ba9_192.jpg', 'image_512': 'https://avatars.slack-edge.com/2021-05-15/2054484743655_73cf448f226a25744ba9_512.jpg', 'image_1024': 'https://avatars.slack-edge.com/2021-05-15/2054484743655_73cf448f226a25744ba9_1024.jpg', 'status_text_canonical': '', 'team': 'T01B7SGGMLJ'}, 'is_admin': False, 'is_owner': False, 'is_primary_owner': False, 'is_restricted': False, 'is_ultra_restricted': False, 'is_bot': False, 'is_app_user': False, 'updated': 1621134074, 'is_email_confirmed': True}, {'id': 'U02246KN5D1', 'team_id': 'T01B7SGGMLJ', 'name': 'conversationslist', 'deleted': True, 'profile': {'title': '', 'phone': '', 'skype': '', 'real_name': '/conversations.list', 'real_name_normalized': '/conversations.list', 'display_name': '', 'display_name_normalized': '', 'fields': None, 'status_text': '', 'status_emoji': '', 'status_expiration': 0, 'avatar_hash': 'gf455d759ea9', 'api_app_id': 'A02246BLA1Z', 'always_active': False, 'bot_id': 'B02240BHX5G', 'first_name': '/conversations.list', 'last_name': '', 'image_24': 'https://secure.gravatar.com/avatar/f455d759ea9019fc97f9257dd56b34aa.jpg?s=24&d=https%3A%2F%2Fa.slack-edge.com%2Fdf10d%2Fimg%2Favatars%2Fava_0008-24.png', 'image_32': 'https://secure.gravatar.com/avatar/f455d759ea9019fc97f9257dd56b34aa.jpg?s=32&d=https%3A%2F%2Fa.slack-edge.com%2Fdf10d%2Fimg%2Favatars%2Fava_0008-32.png', 'image_48': 'https://secure.gravatar.com/avatar/f455d759ea9019fc97f9257dd56b34aa.jpg?s=48&d=https%3A%2F%2Fa.slack-edge.com%2Fdf10d%2Fimg%2Favatars%2Fava_0008-48.png', 'image_72': 'https://secure.gravatar.com/avatar/f455d759ea9019fc97f9257dd56b34aa.jpg?s=72&d=https%3A%2F%2Fa.slack-edge.com%2Fdf10d%2Fimg%2Favatars%2Fava_0008-72.png', 'image_192': 'https://secure.gravatar.com/avatar/f455d759ea9019fc97f9257dd56b34aa.jpg?s=192&d=https%3A%2F%2Fa.slack-edge.com%2Fdf10d%2Fimg%2Favatars%2Fava_0008-192.png', 'image_512': 'https://secure.gravatar.com/avatar/f455d759ea9019fc97f9257dd56b34aa.jpg?s=512&d=https%3A%2F%2Fa.slack-edge.com%2Fdf10d%2Fimg%2Favatars%2Fava_0008-512.png', 'status_text_canonical': '', 'team': 'T01B7SGGMLJ'}, 'is_bot': True, 'is_app_user': False, 'updated': 1621856607}, {'id': 'U0226MQ73MJ', 'team_id': 'T01B7SGGMLJ', 'name': 'mad', 'deleted': False, 'color': '684b6c', 'real_name': 'MAD', 'tz': 'America/Los_Angeles', 'tz_label': 'Pacific Daylight Time', 'tz_offset': -25200, 'profile': {'title': '', 'phone': '', 'skype': '', 'real_name': 'MAD', 'real_name_normalized': 'MAD', 'display_name': '', 'display_name_normalized': '', 'fields': None, 'status_text': '', 'status_emoji': '', 'status_expiration': 0, 'avatar_hash': 'ga147329c4ca', 'api_app_id': 'A0220GDHWJW', 'always_active': False, 'bot_id': 'B022QB4TL9W', 'first_name': 'MAD', 'last_name': '', 'image_24': 'https://secure.gravatar.com/avatar/a147329c4ca6735286d053d06784665c.jpg?s=24&d=https%3A%2F%2Fa.slack-edge.com%2Fdf10d%2Fimg%2Favatars%2Fava_0001-24.png', 'image_32': 'https://secure.gravatar.com/avatar/a147329c4ca6735286d053d06784665c.jpg?s=32&d=https%3A%2F%2Fa.slack-edge.com%2Fdf10d%2Fimg%2Favatars%2Fava_0001-32.png', 'image_48': 'https://secure.gravatar.com/avatar/a147329c4ca6735286d053d06784665c.jpg?s=48&d=https%3A%2F%2Fa.slack-edge.com%2Fdf10d%2Fimg%2Favatars%2Fava_0001-48.png', 'image_72': 'https://secure.gravatar.com/avatar/a147329c4ca6735286d053d06784665c.jpg?s=72&d=https%3A%2F%2Fa.slack-edge.com%2Fdf10d%2Fimg%2Favatars%2Fava_0001-72.png', 'image_192': 'https://secure.gravatar.com/avatar/a147329c4ca6735286d053d06784665c.jpg?s=192&d=https%3A%2F%2Fa.slack-edge.com%2Fdf10d%2Fimg%2Favatars%2Fava_0001-192.png', 'image_512': 'https://secure.gravatar.com/avatar/a147329c4ca6735286d053d06784665c.jpg?s=512&d=https%3A%2F%2Fa.slack-edge.com%2Fdf10d%2Fimg%2Favatars%2Fava_0001-512.png', 'status_text_canonical': '', 'team': 'T01B7SGGMLJ'}, 'is_admin': False, 'is_owner': False, 'is_primary_owner': False, 'is_restricted': False, 'is_ultra_restricted': False, 'is_bot': True, 'is_app_user': False, 'updated': 1621856755, 'is_email_confirmed': False}, {'id': 'U022BEV3FEW', 'team_id': 'T01B7SGGMLJ', 'name': 'convhist', 'deleted': True, 'profile': {'title': '', 'phone': '', 'skype': '', 'real_name': 'conv.hist', 'real_name_normalized': 'conv.hist', 'display_name': '', 'display_name_normalized': '', 'fields': None, 'status_text': '', 'status_emoji': '', 'status_expiration': 0, 'avatar_hash': 'ga71d9b3bda0', 'api_app_id': 'A022Q3GUJTB', 'always_active': False, 'bot_id': 'B022BM39LSF', 'first_name': 'conv.hist', 'last_name': '', 'image_24': 'https://secure.gravatar.com/avatar/a71d9b3bda0aecbd692b6eb0de33f162.jpg?s=24&d=https%3A%2F%2Fa.slack-edge.com%2Fdf10d%2Fimg%2Favatars%2Fava_0002-24.png', 'image_32': 'https://secure.gravatar.com/avatar/a71d9b3bda0aecbd692b6eb0de33f162.jpg?s=32&d=https%3A%2F%2Fa.slack-edge.com%2Fdf10d%2Fimg%2Favatars%2Fava_0002-32.png', 'image_48': 'https://secure.gravatar.com/avatar/a71d9b3bda0aecbd692b6eb0de33f162.jpg?s=48&d=https%3A%2F%2Fa.slack-edge.com%2Fdf10d%2Fimg%2Favatars%2Fava_0002-48.png', 'image_72': 'https://secure.gravatar.com/avatar/a71d9b3bda0aecbd692b6eb0de33f162.jpg?s=72&d=https%3A%2F%2Fa.slack-edge.com%2Fdf10d%2Fimg%2Favatars%2Fava_0002-72.png', 'image_192': 'https://secure.gravatar.com/avatar/a71d9b3bda0aecbd692b6eb0de33f162.jpg?s=192&d=https%3A%2F%2Fa.slack-edge.com%2Fdf10d%2Fimg%2Favatars%2Fava_0002-192.png', 'image_512': 'https://secure.gravatar.com/avatar/a71d9b3bda0aecbd692b6eb0de33f162.jpg?s=512&d=https%3A%2F%2Fa.slack-edge.com%2Fdf10d%2Fimg%2Favatars%2Fava_0002-512.png', 'status_text_canonical': '', 'team': 'T01B7SGGMLJ'}, 'is_bot': True, 'is_app_user': False, 'updated': 1621856713}, {'id': 'U022J0SQAMQ', 'team_id': 'T01B7SGGMLJ', 'name': 'abc', 'deleted': True, 'profile': {'title': '', 'phone': '', 'skype': '', 'real_name': 'abc', 'real_name_normalized': 'abc', 'display_name': '', 'display_name_normalized': '', 'fields': None, 'status_text': '', 'status_emoji': '', 'status_expiration': 0, 'avatar_hash': 'gc61c18c89c7', 'api_app_id': 'A022B6B3F8W', 'always_active': False, 'bot_id': 'B022B7ANQES', 'image_24': 'https://secure.gravatar.com/avatar/c61c18c89c7377a9e2da92cae356da39.jpg?s=24&d=https%3A%2F%2Fa.slack-edge.com%2Fdf10d%2Fimg%2Favatars%2Fava_0025-24.png', 'image_32': 'https://secure.gravatar.com/avatar/c61c18c89c7377a9e2da92cae356da39.jpg?s=32&d=https%3A%2F%2Fa.slack-edge.com%2Fdf10d%2Fimg%2Favatars%2Fava_0025-32.png', 'image_48': 'https://secure.gravatar.com/avatar/c61c18c89c7377a9e2da92cae356da39.jpg?s=48&d=https%3A%2F%2Fa.slack-edge.com%2Fdf10d%2Fimg%2Favatars%2Fava_0025-48.png', 'image_72': 'https://secure.gravatar.com/avatar/c61c18c89c7377a9e2da92cae356da39.jpg?s=72&d=https%3A%2F%2Fa.slack-edge.com%2Fdf10d%2Fimg%2Favatars%2Fava_0025-72.png', 'image_192': 'https://secure.gravatar.com/avatar/c61c18c89c7377a9e2da92cae356da39.jpg?s=192&d=https%3A%2F%2Fa.slack-edge.com%2Fdf10d%2Fimg%2Favatars%2Fava_0025-192.png', 'image_512': 'https://secure.gravatar.com/avatar/c61c18c89c7377a9e2da92cae356da39.jpg?s=512&d=https%3A%2F%2Fa.slack-edge.com%2Fdf10d%2Fimg%2Favatars%2Fava_0025-512.png', 'status_text_canonical': '', 'team': 'T01B7SGGMLJ'}, 'is_bot': True, 'is_app_user': False, 'updated': 1621856631}, {'id': 'U022R4885AN', 'team_id': 'T01B7SGGMLJ', 'name': '78', 'deleted': True, 'profile': {'title': '', 'phone': '', 'skype': '', 'real_name': '78', 'real_name_normalized': '78', 'display_name': '', 'display_name_normalized': '', 'fields': None, 'status_text': '', 'status_emoji': '', 'status_expiration': 0, 'avatar_hash': 'gd082bd59567', 'api_app_id': 'A023ETPS7SL', 'always_active': False, 'bot_id': 'B022RAGK81H', 'image_24': 'https://secure.gravatar.com/avatar/d082bd595679aa34ea6a9f759c743664.jpg?s=24&d=https%3A%2F%2Fa.slack-edge.com%2Fdf10d%2Fimg%2Favatars%2Fava_0018-24.png', 'image_32': 'https://secure.gravatar.com/avatar/d082bd595679aa34ea6a9f759c743664.jpg?s=32&d=https%3A%2F%2Fa.slack-edge.com%2Fdf10d%2Fimg%2Favatars%2Fava_0018-32.png', 'image_48': 'https://secure.gravatar.com/avatar/d082bd595679aa34ea6a9f759c743664.jpg?s=48&d=https%3A%2F%2Fa.slack-edge.com%2Fdf10d%2Fimg%2Favatars%2Fava_0018-48.png', 'image_72': 'https://secure.gravatar.com/avatar/d082bd595679aa34ea6a9f759c743664.jpg?s=72&d=https%3A%2F%2Fa.slack-edge.com%2Fdf10d%2Fimg%2Favatars%2Fava_0018-72.png', 'image_192': 'https://secure.gravatar.com/avatar/d082bd595679aa34ea6a9f759c743664.jpg?s=192&d=https%3A%2F%2Fa.slack-edge.com%2Fdf10d%2Fimg%2Favatars%2Fava_0018-192.png', 'image_512': 'https://secure.gravatar.com/avatar/d082bd595679aa34ea6a9f759c743664.jpg?s=512&d=https%3A%2F%2Fa.slack-edge.com%2Fdf10d%2Fimg%2Favatars%2Fava_0018-512.png', 'status_text_canonical': '', 'team': 'T01B7SGGMLJ'}, 'is_bot': True, 'is_app_user': False, 'updated': 1621856620}, {'id': 'U0233KHLM2M', 'team_id': 'T01B7SGGMLJ', 'name': 'vuthanhdat.contact', 'deleted': False, 'color': 'd58247', 'real_name': 'Vuthanhdat Contact', 'tz': 'Asia/Bangkok', 'tz_label': 'Indochina Time', 'tz_offset': 25200, 'profile': {'title': '', 'phone': '', 'skype': '', 'real_name': 'Vuthanhdat Contact', 'real_name_normalized': 'Vuthanhdat Contact', 'display_name': '', 'display_name_normalized': '', 'fields': None, 'status_text': '', 'status_emoji': '', 'status_expiration': 0, 'avatar_hash': 'g72ade5f0a21', 'image_24': 'https://secure.gravatar.com/avatar/72ade5f0a2147dfa9516ec249642979f.jpg?s=24&d=https%3A%2F%2Fa.slack-edge.com%2Fdf10d%2Fimg%2Favatars%2Fava_0007-24.png', 'image_32': 'https://secure.gravatar.com/avatar/72ade5f0a2147dfa9516ec249642979f.jpg?s=32&d=https%3A%2F%2Fa.slack-edge.com%2Fdf10d%2Fimg%2Favatars%2Fava_0007-32.png', 'image_48': 'https://secure.gravatar.com/avatar/72ade5f0a2147dfa9516ec249642979f.jpg?s=48&d=https%3A%2F%2Fa.slack-edge.com%2Fdf10d%2Fimg%2Favatars%2Fava_0007-48.png', 'image_72': 'https://secure.gravatar.com/avatar/72ade5f0a2147dfa9516ec249642979f.jpg?s=72&d=https%3A%2F%2Fa.slack-edge.com%2Fdf10d%2Fimg%2Favatars%2Fava_0007-72.png', 'image_192': 'https://secure.gravatar.com/avatar/72ade5f0a2147dfa9516ec249642979f.jpg?s=192&d=https%3A%2F%2Fa.slack-edge.com%2Fdf10d%2Fimg%2Favatars%2Fava_0007-192.png', 'image_512': 'https://secure.gravatar.com/avatar/72ade5f0a2147dfa9516ec249642979f.jpg?s=512&d=https%3A%2F%2Fa.slack-edge.com%2Fdf10d%2Fimg%2Favatars%2Fava_0007-512.png', 'status_text_canonical': '', 'team': 'T01B7SGGMLJ'}, 'is_admin': False, 'is_owner': False, 'is_primary_owner': False, 'is_restricted': False, 'is_ultra_restricted': False, 'is_bot': False, 'is_app_user': False, 'updated': 1621649389, 'is_email_confirmed': False, 'is_invited_user': True}, {'id': 'U023E0BAHQ8', 'team_id': 'T01B7SGGMLJ', 'name': 'testgettoken', 'deleted': True, 'profile': {'title': '', 'phone': '', 'skype': '', 'real_name': 'test.gettoken', 'real_name_normalized': 'test.gettoken', 'display_name': '', 'display_name_normalized': '', 'fields': None, 'status_text': '', 'status_emoji': '', 'status_expiration': 0, 'avatar_hash': 'gc28c6476803', 'api_app_id': 'A022HBW1Z9U', 'always_active': True, 'bot_id': 'B022WAYRETW', 'first_name': 'test.gettoken', 'last_name': '', 'image_24': 'https://secure.gravatar.com/avatar/c28c647680342591290d4dca604303d5.jpg?s=24&d=https%3A%2F%2Fa.slack-edge.com%2Fdf10d%2Fimg%2Favatars%2Fava_0020-24.png', 'image_32': 'https://secure.gravatar.com/avatar/c28c647680342591290d4dca604303d5.jpg?s=32&d=https%3A%2F%2Fa.slack-edge.com%2Fdf10d%2Fimg%2Favatars%2Fava_0020-32.png', 'image_48': 'https://secure.gravatar.com/avatar/c28c647680342591290d4dca604303d5.jpg?s=48&d=https%3A%2F%2Fa.slack-edge.com%2Fdf10d%2Fimg%2Favatars%2Fava_0020-48.png', 'image_72': 'https://secure.gravatar.com/avatar/c28c647680342591290d4dca604303d5.jpg?s=72&d=https%3A%2F%2Fa.slack-edge.com%2Fdf10d%2Fimg%2Favatars%2Fava_0020-72.png', 'image_192': 'https://secure.gravatar.com/avatar/c28c647680342591290d4dca604303d5.jpg?s=192&d=https%3A%2F%2Fa.slack-edge.com%2Fdf10d%2Fimg%2Favatars%2Fava_0020-192.png', 'image_512': 'https://secure.gravatar.com/avatar/c28c647680342591290d4dca604303d5.jpg?s=512&d=https%3A%2F%2Fa.slack-edge.com%2Fdf10d%2Fimg%2Favatars%2Fava_0020-512.png', 'status_text_canonical': '', 'team': 'T01B7SGGMLJ'}, 'is_bot': True, 'is_app_user': False, 'updated': 1621856654}, {'id': 'U023G7HDUL8', 'team_id': 'T01B7SGGMLJ', 'name': 'ass4', 'deleted': True, 'profile': {'title': '', 'phone': '', 'skype': '', 'real_name': 'Ass4', 'real_name_normalized': 'Ass4', 'display_name': '', 'display_name_normalized': '', 'fields': None, 'status_text': '', 'status_emoji': '', 'status_expiration': 0, 'avatar_hash': 'g9a7abdbdcd7', 'api_app_id': 'A022SD34Z18', 'always_active': False, 'bot_id': 'B022SDBMGQ2', 'first_name': 'Ass4', 'last_name': '', 'image_24': 'https://secure.gravatar.com/avatar/9a7abdbdcd72745e71d5c81f13292e7f.jpg?s=24&d=https%3A%2F%2Fa.slack-edge.com%2Fdf10d%2Fimg%2Favatars%2Fava_0024-24.png', 'image_32': 'https://secure.gravatar.com/avatar/9a7abdbdcd72745e71d5c81f13292e7f.jpg?s=32&d=https%3A%2F%2Fa.slack-edge.com%2Fdf10d%2Fimg%2Favatars%2Fava_0024-32.png', 'image_48': 'https://secure.gravatar.com/avatar/9a7abdbdcd72745e71d5c81f13292e7f.jpg?s=48&d=https%3A%2F%2Fa.slack-edge.com%2Fdf10d%2Fimg%2Favatars%2Fava_0024-48.png', 'image_72': 'https://secure.gravatar.com/avatar/9a7abdbdcd72745e71d5c81f13292e7f.jpg?s=72&d=https%3A%2F%2Fa.slack-edge.com%2Fdf10d%2Fimg%2Favatars%2Fava_0024-72.png', 'image_192': 'https://secure.gravatar.com/avatar/9a7abdbdcd72745e71d5c81f13292e7f.jpg?s=192&d=https%3A%2F%2Fa.slack-edge.com%2Fdf10d%2Fimg%2Favatars%2Fava_0024-192.png', 'image_512': 'https://secure.gravatar.com/avatar/9a7abdbdcd72745e71d5c81f13292e7f.jpg?s=512&d=https%3A%2F%2Fa.slack-edge.com%2Fdf10d%2Fimg%2Favatars%2Fava_0024-512.png', 'status_text_canonical': '', 'team': 'T01B7SGGMLJ'}, 'is_bot': True, 'is_app_user': False, 'updated': 1621856695}]\n"
          ]
        }
      ],
      "source": [
        "print(user_dat)"
      ]
    },
    {
      "cell_type": "code",
      "metadata": {
        "id": "P0qbkdhtD9ww"
      },
      "source": [
        "## Loop qua JSON file và extract các thông tin quan trọng (id, name, display_name, real_name_normalized, title, phone, is_bot)\n",
        "## Hint: Bạn có thể dùng Postman hoặc in user_dat JSON để xem cấu trúc (schema), dùng Ctrl+F để tìm các keys (id, name, display_name, real_name_normalized, title, phone, is_bot)\n",
        "user_dict = {'user_id':[], 'name':[], 'display_name':[],'real_name':[],'title':[],'phone':[],'is_bot':[]}\n",
        "for i in range(len(user_dat)):\n",
        "  user_dict['user_id'].append(user_dat[i]['id'])\n",
        "  user_dict['name'].append(user_dat[i]['name'])\n",
        "  user_dict['display_name'].append(user_dat[i]['profile']['display_name'])\n",
        "  user_dict['real_name'].append(user_dat[i]['profile']['real_name_normalized'])\n",
        "  user_dict['title'].append(user_dat[i]['profile']['title'])\n",
        "  user_dict['phone'].append(user_dat[i]['profile']['phone'])\n",
        "  user_dict['is_bot'].append(user_dat[i]['is_bot'])"
      ],
      "execution_count": 20,
      "outputs": []
    },
    {
      "cell_type": "code",
      "metadata": {
        "colab": {
          "base_uri": "https://localhost:8080/",
          "height": 204
        },
        "id": "yGNvsCauF8_w",
        "outputId": "dfc4c6f7-845c-4202-8fc7-43aeb328554a"
      },
      "source": [
        "user_df = pd.DataFrame(user_dict) ## Dùng pandas để convert dictionaries thành bảng\n",
        "user_df.head(5) ## Chỉ in 5 dòng đầu (chủ yếu để xem cấu trúc)"
      ],
      "execution_count": 21,
      "outputs": [
        {
          "output_type": "execute_result",
          "data": {
            "text/plain": [
              "       user_id               name       display_name           real_name  \\\n",
              "0    USLACKBOT           slackbot           Slackbot            Slackbot   \n",
              "1  U01AT4T75JB     loclexuan26392        Loc Le Xuan         Loc Le Xuan   \n",
              "2  U01AVDY7JET           locle.ds        Loc Le Xuan         Loc Le Xuan   \n",
              "3  U01BE2PR6LU     maianhdang.ftu                MAD  Dặng Huỳnh Mai Anh   \n",
              "4  U01C48T7S1J  huyenhoang.design  Thanh Huyen Hoang   Thanh Huyen Hoang   \n",
              "\n",
              "                title phone  is_bot  \n",
              "0                             False  \n",
              "1                             False  \n",
              "2                             False  \n",
              "3  Technical Contents         False  \n",
              "4                             False  "
            ],
            "text/html": "<div>\n<style scoped>\n    .dataframe tbody tr th:only-of-type {\n        vertical-align: middle;\n    }\n\n    .dataframe tbody tr th {\n        vertical-align: top;\n    }\n\n    .dataframe thead th {\n        text-align: right;\n    }\n</style>\n<table border=\"1\" class=\"dataframe\">\n  <thead>\n    <tr style=\"text-align: right;\">\n      <th></th>\n      <th>user_id</th>\n      <th>name</th>\n      <th>display_name</th>\n      <th>real_name</th>\n      <th>title</th>\n      <th>phone</th>\n      <th>is_bot</th>\n    </tr>\n  </thead>\n  <tbody>\n    <tr>\n      <th>0</th>\n      <td>USLACKBOT</td>\n      <td>slackbot</td>\n      <td>Slackbot</td>\n      <td>Slackbot</td>\n      <td></td>\n      <td></td>\n      <td>False</td>\n    </tr>\n    <tr>\n      <th>1</th>\n      <td>U01AT4T75JB</td>\n      <td>loclexuan26392</td>\n      <td>Loc Le Xuan</td>\n      <td>Loc Le Xuan</td>\n      <td></td>\n      <td></td>\n      <td>False</td>\n    </tr>\n    <tr>\n      <th>2</th>\n      <td>U01AVDY7JET</td>\n      <td>locle.ds</td>\n      <td>Loc Le Xuan</td>\n      <td>Loc Le Xuan</td>\n      <td></td>\n      <td></td>\n      <td>False</td>\n    </tr>\n    <tr>\n      <th>3</th>\n      <td>U01BE2PR6LU</td>\n      <td>maianhdang.ftu</td>\n      <td>MAD</td>\n      <td>Dặng Huỳnh Mai Anh</td>\n      <td>Technical Contents</td>\n      <td></td>\n      <td>False</td>\n    </tr>\n    <tr>\n      <th>4</th>\n      <td>U01C48T7S1J</td>\n      <td>huyenhoang.design</td>\n      <td>Thanh Huyen Hoang</td>\n      <td>Thanh Huyen Hoang</td>\n      <td></td>\n      <td></td>\n      <td>False</td>\n    </tr>\n  </tbody>\n</table>\n</div>"
          },
          "metadata": {},
          "execution_count": 21
        }
      ]
    },
    {
      "cell_type": "code",
      "metadata": {
        "colab": {
          "base_uri": "https://localhost:8080/",
          "height": 80
        },
        "id": "rjFcaWdt2ABM",
        "outputId": "1a114985-7608-4421-aa51-1e406cc427eb"
      },
      "source": [
        "user_df[user_df.display_name == 'MAD'] ## Lọc thông tin của MAD, trên DataFrame (bạn có thể Google thêm)"
      ],
      "execution_count": 22,
      "outputs": [
        {
          "output_type": "execute_result",
          "data": {
            "text/plain": [
              "       user_id            name display_name           real_name  \\\n",
              "3  U01BE2PR6LU  maianhdang.ftu          MAD  Dặng Huỳnh Mai Anh   \n",
              "\n",
              "                title phone  is_bot  \n",
              "3  Technical Contents         False  "
            ],
            "text/html": "<div>\n<style scoped>\n    .dataframe tbody tr th:only-of-type {\n        vertical-align: middle;\n    }\n\n    .dataframe tbody tr th {\n        vertical-align: top;\n    }\n\n    .dataframe thead th {\n        text-align: right;\n    }\n</style>\n<table border=\"1\" class=\"dataframe\">\n  <thead>\n    <tr style=\"text-align: right;\">\n      <th></th>\n      <th>user_id</th>\n      <th>name</th>\n      <th>display_name</th>\n      <th>real_name</th>\n      <th>title</th>\n      <th>phone</th>\n      <th>is_bot</th>\n    </tr>\n  </thead>\n  <tbody>\n    <tr>\n      <th>3</th>\n      <td>U01BE2PR6LU</td>\n      <td>maianhdang.ftu</td>\n      <td>MAD</td>\n      <td>Dặng Huỳnh Mai Anh</td>\n      <td>Technical Contents</td>\n      <td></td>\n      <td>False</td>\n    </tr>\n  </tbody>\n</table>\n</div>"
          },
          "metadata": {},
          "execution_count": 22
        }
      ]
    },
    {
      "cell_type": "markdown",
      "metadata": {
        "id": "1TZrcaWZyE07"
      },
      "source": [
        "-------------- HẾT PHẦN BẮT BUỘC ---------------------"
      ]
    },
    {
      "cell_type": "markdown",
      "metadata": {
        "id": "P3_b7zw-1A6s"
      },
      "source": [
        "## Option 1: Update data => Google SpreadSheet"
      ]
    },
    {
      "cell_type": "markdown",
      "metadata": {
        "id": "UPuXhw3WtmWw"
      },
      "source": [
        "### TODO#2\n",
        "Tạo service account (output là file json), file này để cho phép ta access vào Google Spreadsheet:\n",
        "\n",
        "1. Làm theo hướng dẫn: [Google Create a Service Account](https://support.google.com/a/answer/7378726?hl=en)\n",
        "![google_service_account](../img/google_service_account.png)\n",
        "2. Lưu file JSON (chứa credential về máy)\n",
        "![gservice_acc_json](../img/gservice_acc_json.png)\n",
        "3. Nhớ Enable [Google Drive API](https://console.cloud.google.com/marketplace/product/google/drive.googleapis.com?q=search&referrer=search&project=quickstart-313303) (Nếu bạn chạy code báo lỗi chưa enable API thì vào link trong phần lỗi để Enable, sau khi kích hoạt có thể cần vài phút để chạy được)\n",
        "![enable_api](../img/enable_api.png)\n",
        "* ==> Upload file Gsheet Credential JSON nếu bạn dùng Colab \n",
        "* ==> Nếu bạn để key trong repo git, **NHỚ** để file json vào `.gitignore` để không bị leaked key)\n"
      ]
    },
    {
      "cell_type": "code",
      "metadata": {
        "colab": {
          "base_uri": "https://localhost:8080/"
        },
        "id": "XhrcVjXWwldS",
        "outputId": "63133330-f68b-4adf-96a1-6d2c0e08dc70"
      },
      "source": [
        "!ls"
      ],
      "execution_count": null,
      "outputs": []
    },
    {
      "cell_type": "code",
      "metadata": {
        "colab": {
          "base_uri": "https://localhost:8080/"
        },
        "id": "4NEQFu-DNvFC",
        "outputId": "a855fe34-b409-4152-a218-67bfa240396f"
      },
      "source": [
        "## Authorize bằng JSON\n",
        "scope = ['https://spreadsheets.google.com/feeds',\n",
        "         'https://www.googleapis.com/auth/drive']\n",
        "credentials = ServiceAccountCredentials.from_json_keyfile_name(\n",
        "    'key-assignment-3.json', scope)\n",
        "gc = gspread.authorize(credentials)\n",
        "print(\"DONE!\")"
      ],
      "execution_count": 23,
      "outputs": [
        {
          "output_type": "stream",
          "name": "stdout",
          "text": [
            "DONE!\n"
          ]
        }
      ]
    },
    {
      "cell_type": "markdown",
      "metadata": {
        "id": "HELBp0Sdxhzc"
      },
      "source": [
        "**Tạo Spreadsheet**\n",
        "\n",
        "1. Tạo Spreadsheet trên google\n",
        "2. Invite account trong `client_email` (file JSON Gsheet Credential bên trên) vào Spreadsheet (quyền Editor)\n",
        "![enable_api](../img/enable_api.png)\n",
        "3. Lấy `SPREADSHEET_KEY` (nằm trong chính URL của Spreadhstee): `https://docs.google.com/spreadsheets/d/<SPREADSHEET_KEY>/edit#gid=0`\n",
        "\n",
        "![add_gsheet](../img/add_gsheet.png)"
      ]
    },
    {
      "cell_type": "code",
      "metadata": {
        "id": "XlZ8JNB3bZbw"
      },
      "source": [
        "# ACCES GOOGLE SHEET\n",
        "sheet_index_no = 0\n",
        "spreadsheet_key = '1grj59muE9MSV2-Vitt0TFEqiiqouHSuEq0ovom4WAlU' # input SPREADSHEET_KEY HERE\n",
        "sh = gc.open_by_key(spreadsheet_key)\n",
        "worksheet = sh.get_worksheet(sheet_index_no) #-> 0 - first sheet, 1 - second sheet etc. \n",
        "\n",
        "# APPEND DATA TO SHEET\n",
        "set_with_dataframe(worksheet, user_df) #-> Upload user_df vào Sheet đầu tiên trong Spreadsheet\n",
        "\n",
        "# DONE: Bây giờ bạn có thể mở spreadsheet và kiểm tra nội dung đã update chứ"
      ],
      "execution_count": 24,
      "outputs": []
    },
    {
      "source": [
        "![slack_user_gsheet](../img/slack_user_gsheet.png)"
      ],
      "cell_type": "markdown",
      "metadata": {}
    },
    {
      "cell_type": "markdown",
      "metadata": {
        "id": "5I15m3ilyA3Y"
      },
      "source": [
        "-------------- HẾT PHẦN OPTION 1 ---------------------"
      ]
    },
    {
      "cell_type": "markdown",
      "metadata": {
        "id": "9aRN9KSczkmr"
      },
      "source": [
        "## Option 2: Ai đã nộp bài?\n"
      ]
    },
    {
      "cell_type": "markdown",
      "metadata": {
        "id": "Pw81ioUz2N0v"
      },
      "source": [
        "### Slack API: Channel List"
      ]
    },
    {
      "cell_type": "code",
      "metadata": {
        "id": "fcdaDaGdz60p"
      },
      "source": [
        "## Gọi SLACK API để list tất cả các channel\n",
        "endpoint = \"https://slack.com/api/conversations.list\"\n",
        "headers = {\"Authorization\": \"Bearer {}\".format(os.environ['SLACK_BEARER_TOKEN'])}\n",
        "response = requests.post(endpoint, headers=headers).json() \n",
        "channel_ls = response['channels']"
      ],
      "execution_count": 33,
      "outputs": []
    },
    {
      "cell_type": "code",
      "metadata": {
        "colab": {
          "base_uri": "https://localhost:8080/"
        },
        "id": "47dUJAPi0Jg5",
        "outputId": "2762f1e8-ff65-4994-c3e5-1ab0f5dc9205"
      },
      "source": [
        "channel_ls[0] ## Thử extract record đầu tiên để xem schema  => name: general, id: C01B4PVGLVB"
      ],
      "execution_count": 35,
      "outputs": [
        {
          "output_type": "execute_result",
          "data": {
            "text/plain": [
              "{'id': 'C01B4PVGLVB',\n",
              " 'name': 'general',\n",
              " 'is_channel': True,\n",
              " 'is_group': False,\n",
              " 'is_im': False,\n",
              " 'created': 1600856703,\n",
              " 'is_archived': False,\n",
              " 'is_general': True,\n",
              " 'unlinked': 0,\n",
              " 'name_normalized': 'general',\n",
              " 'is_shared': False,\n",
              " 'parent_conversation': None,\n",
              " 'creator': 'U01BE2PR6LU',\n",
              " 'is_ext_shared': False,\n",
              " 'is_org_shared': False,\n",
              " 'shared_team_ids': ['T01B7SGGMLJ'],\n",
              " 'pending_shared': [],\n",
              " 'pending_connected_team_ids': [],\n",
              " 'is_pending_ext_shared': False,\n",
              " 'is_member': False,\n",
              " 'is_private': False,\n",
              " 'is_mpim': False,\n",
              " 'topic': {'value': '', 'creator': '', 'last_set': 0},\n",
              " 'purpose': {'value': 'This is the one channel that will always include everyone. It’s a great spot for announcements and team-wide conversations.',\n",
              "  'creator': 'U01BE2PR6LU',\n",
              "  'last_set': 1600856703},\n",
              " 'previous_names': [],\n",
              " 'num_members': 64}"
            ]
          },
          "metadata": {},
          "execution_count": 35
        }
      ]
    },
    {
      "cell_type": "markdown",
      "metadata": {
        "id": "CNFTcFC00l8g"
      },
      "source": [
        "### TODO#3 \n",
        "* Tìm id của channel #atom-assignment2"
      ]
    },
    {
      "cell_type": "code",
      "execution_count": 36,
      "metadata": {},
      "outputs": [
        {
          "output_type": "stream",
          "name": "stdout",
          "text": [
            "general\ncontents\nbranding-design\natom-assignment1\natom-week1\natom-general\ntopics-data-analytics\ntopics-python\ntopics-materials\natom-assignment2\natom-week2\natom-week3\natom-assignment3\n"
          ]
        }
      ],
      "source": [
        "#check channel name in channel_ls\n",
        "for i in range(len(channel_ls)):\n",
        "    print(channel_ls[i]['name'])"
      ]
    },
    {
      "cell_type": "code",
      "execution_count": 37,
      "metadata": {},
      "outputs": [
        {
          "output_type": "stream",
          "name": "stdout",
          "text": [
            "ID of atom-assignment2 is: C021FSDN7LJ\n"
          ]
        }
      ],
      "source": [
        "#TO-DO #3 tim ID cua channel #atom-assignment2\n",
        "\n",
        "for i in range(len(channel_ls)):\n",
        "    if channel_ls[i]['name'] == 'atom-assignment2':\n",
        "        print('ID of atom-assignment2 is:', channel_ls[i]['id'])\n",
        "        break"
      ]
    },
    {
      "cell_type": "markdown",
      "metadata": {
        "id": "EnCvdYAn2R47"
      },
      "source": [
        "### Slack API: List messages trong 1 channel (Pick channel atom-assignment#2)"
      ]
    },
    {
      "cell_type": "code",
      "metadata": {
        "id": "1UsSESN8rtnk"
      },
      "source": [
        "endpoint = \"https://slack.com/api/conversations.history\"\n",
        "data = {\"channel\": \"C021FSDN7LJ\"} ## This is ID of assignment#2 channel\n",
        "headers = {\"Authorization\": \"Bearer {}\".format(os.environ['SLACK_BEARER_TOKEN'])}"
      ],
      "execution_count": 35,
      "outputs": []
    },
    {
      "cell_type": "code",
      "metadata": {
        "id": "i8eJw3LBr4lY"
      },
      "source": [
        "response_json = requests.post(endpoint, data=data, headers=headers).json()\n",
        "msg_ls = response_json['messages']"
      ],
      "execution_count": 36,
      "outputs": []
    },
    {
      "cell_type": "code",
      "metadata": {
        "colab": {
          "base_uri": "https://localhost:8080/"
        },
        "id": "KkYO1KcBtZa9",
        "outputId": "7a76397b-202b-445e-aa26-f4b30cfc9a53"
      },
      "source": [
        "msg_ls[19]"
      ],
      "execution_count": 49,
      "outputs": [
        {
          "output_type": "execute_result",
          "data": {
            "text/plain": [
              "{'client_msg_id': '393D42F5-52CE-47C0-92B7-BD2C9BC1A430',\n",
              " 'type': 'message',\n",
              " 'text': 'Em xin phép gửi lại link do tối qua gửi nhầm bên #atom-asignment3 ạ.\\nBài tập tuần 2 em đã revised ở <https://github.com/nguyenhonghanh2511/datacracy-atom-Nguyen-T-Hong-Hanh/blob/main/WEEK%202_Link%20of%20assignment%20for%20peer%20review|link này> ạ.\\nNhân tiện, bài tập tuần 1 của em vẫn chưa được review :smiling_face_with_tear:, nên em gửi lại link <https://github.com/nguyenhonghanh2511/datacracy-atom-Nguyen-T-Hong-Hanh/blob/main/WEEK%201_Link%20of%20assignment%20for%20peer%20review|ở đây> để nhờ mọi người giúp em review nhé.\\nEm cảm ơn ạ.',\n",
              " 'user': 'U01UTGRMGEQ',\n",
              " 'ts': '1621211298.005500',\n",
              " 'team': 'T01B7SGGMLJ',\n",
              " 'edited': {'user': 'U01UTGRMGEQ', 'ts': '1621741704.000000'},\n",
              " 'attachments': [{'title': '<https://github.com/nguyenhonghanh2511/datacracy-atom-Nguyen-T-Hong-Hanh/blob/main/WEEK%202_Link%20of%20assignment%20for%20peer%20review | WEEK 2_Link of assignment for peer review>',\n",
              "   'footer': '<https://github.com/nguyenhonghanh2511/datacracy-atom-Nguyen-T-Hong-Hanh|nguyenhonghanh2511/datacracy-atom-Nguyen-T-Hong-Hanh>',\n",
              "   'id': 1,\n",
              "   'footer_icon': 'https://slack.github.com/static/img/favicon-neutral.png',\n",
              "   'color': '24292f',\n",
              "   'mrkdwn_in': ['text'],\n",
              "   'fallback': '<https://github.com/nguyenhonghanh2511/datacracy-atom-Nguyen-T-Hong-Hanh/blob/main/WEEK%202_Link%20of%20assignment%20for%20peer%20review | WEEK 2_Link of assignment for peer review>',\n",
              "   'bot_id': 'B01UQU8E2A3',\n",
              "   'app_unfurl_url': 'https://github.com/nguyenhonghanh2511/datacracy-atom-Nguyen-T-Hong-Hanh/blob/main/WEEK%202_Link%20of%20assignment%20for%20peer%20review',\n",
              "   'is_app_unfurl': True},\n",
              "  {'title': '<https://github.com/nguyenhonghanh2511/datacracy-atom-Nguyen-T-Hong-Hanh/blob/main/WEEK%201_Link%20of%20assignment%20for%20peer%20review | WEEK 1_Link of assignment for peer review>',\n",
              "   'footer': '<https://github.com/nguyenhonghanh2511/datacracy-atom-Nguyen-T-Hong-Hanh|nguyenhonghanh2511/datacracy-atom-Nguyen-T-Hong-Hanh>',\n",
              "   'id': 2,\n",
              "   'footer_icon': 'https://slack.github.com/static/img/favicon-neutral.png',\n",
              "   'color': '24292f',\n",
              "   'mrkdwn_in': ['text'],\n",
              "   'fallback': '<https://github.com/nguyenhonghanh2511/datacracy-atom-Nguyen-T-Hong-Hanh/blob/main/WEEK%201_Link%20of%20assignment%20for%20peer%20review | WEEK 1_Link of assignment for peer review>',\n",
              "   'bot_id': 'B01UQU8E2A3',\n",
              "   'app_unfurl_url': 'https://github.com/nguyenhonghanh2511/datacracy-atom-Nguyen-T-Hong-Hanh/blob/main/WEEK%201_Link%20of%20assignment%20for%20peer%20review',\n",
              "   'is_app_unfurl': True}],\n",
              " 'blocks': [{'type': 'rich_text',\n",
              "   'block_id': 'cep',\n",
              "   'elements': [{'type': 'rich_text_section',\n",
              "     'elements': [{'type': 'text',\n",
              "       'text': 'Em xin phép gửi lại link do tối qua gửi nhầm bên #atom-asignment3 ạ.\\nBài tập tuần 2 em đã revised ở '},\n",
              "      {'type': 'link',\n",
              "       'url': 'https://github.com/nguyenhonghanh2511/datacracy-atom-Nguyen-T-Hong-Hanh/blob/main/WEEK%202_Link%20of%20assignment%20for%20peer%20review',\n",
              "       'text': 'link này'},\n",
              "      {'type': 'text',\n",
              "       'text': ' ạ.\\nNhân tiện, bài tập tuần 1 của em vẫn chưa được review '},\n",
              "      {'type': 'emoji', 'name': 'smiling_face_with_tear'},\n",
              "      {'type': 'text', 'text': ', nên em gửi lại link '},\n",
              "      {'type': 'link',\n",
              "       'url': 'https://github.com/nguyenhonghanh2511/datacracy-atom-Nguyen-T-Hong-Hanh/blob/main/WEEK%201_Link%20of%20assignment%20for%20peer%20review',\n",
              "       'text': 'ở đây'},\n",
              "      {'type': 'text',\n",
              "       'text': ' để nhờ mọi người giúp em review nhé.\\nEm cảm ơn ạ.'}]}]}],\n",
              " 'thread_ts': '1621211298.005500',\n",
              " 'reply_count': 2,\n",
              " 'reply_users_count': 2,\n",
              " 'latest_reply': '1621741776.022700',\n",
              " 'reply_users': ['U01UJ9MUADT', 'U01UTGRMGEQ'],\n",
              " 'is_locked': False,\n",
              " 'subscribed': False,\n",
              " 'reactions': [{'name': '+1',\n",
              "   'users': ['U01UJ9P1S3X', 'U01BE2PR6LU'],\n",
              "   'count': 2}]}"
            ]
          },
          "metadata": {},
          "execution_count": 49
        }
      ]
    },
    {
      "cell_type": "code",
      "metadata": {
        "id": "BsW8CXAXv-tC"
      },
      "source": [
        "not_learners_id = ['U01BE2PR6LU']"
      ],
      "execution_count": 39,
      "outputs": []
    },
    {
      "cell_type": "code",
      "execution_count": 103,
      "metadata": {
        "tags": []
      },
      "outputs": [
        {
          "output_type": "stream",
          "name": "stdout",
          "text": [
            "channel_join\nchannel_join\nchannel_join\nchannel_join\nchannel_join\nchannel_join\nchannel_join\nthread_broadcast\nchannel_join\nchannel_join\nchannel_purpose\nchannel_topic\nchannel_topic\nchannel_join\nthread_broadcast\nchannel_join\nchannel_join\nchannel_join\nchannel_join\nchannel_join\nchannel_join\nchannel_join\nchannel_join\nchannel_join\nchannel_join\nchannel_join\nchannel_join\nchannel_join\nchannel_join\nchannel_join\nchannel_join\nchannel_join\nchannel_join\nchannel_join\nchannel_join\n"
          ]
        }
      ],
      "source": [
        "count = 0\n",
        "for i in range(len(msg_ls)):\n",
        "    if 'subtype' in msg_ls[i].keys():\n",
        "        print(msg_ls[i]['subtype'])\n"
      ]
    },
    {
      "cell_type": "code",
      "metadata": {
        "colab": {
          "base_uri": "https://localhost:8080/"
        },
        "id": "XOvJ5kGCsmAD",
        "outputId": "79567aaf-62bd-4091-deca-6e13c1c80e79",
        "tags": []
      },
      "source": [
        "#Create Submission Records Dictionary\n",
        "sub_dict = {'ts':[],'user':[],'reply_count':[],'reply_users_count':[],'reply_users':[],'latest_reply':[],'github':[]}\n",
        "\n",
        "## Summarize all submitted assignments + reviews cnt\n",
        "not_learners_id = ['U01BE2PR6LU'] # -> Remove MA from the user_id\n",
        "\n",
        "for i in range(len(msg_ls)):\n",
        "  if msg_ls[i]['user'] not in not_learners_id:\n",
        "    if 'subtype' not in msg_ls[i].keys(): # -> subtype doesn't include assignment submission\n",
        "\n",
        "      sub_dict['ts'].append(dt.fromtimestamp(float(msg_ls[i]['ts']))) # -> Convert timestamp Epoch thành dàng dễ đọc\n",
        "      sub_dict['user'].append(msg_ls[i]['user']) # -> Lấy thông tin người post messages\n",
        "      \n",
        "      text = msg_ls[i]['text']\n",
        "      github_link = re.findall('(?:https?://)?(?:www[.])?github[.]com/[\\w-]+/?', text) #-> Submission là các message có link github\n",
        "      if len(github_link) > 0:\n",
        "          sub_dict['github'].append(github_link[0])\n",
        "      else:\n",
        "          sub_dict['github'].append('na')\n",
        "            \n",
        "        \n",
        "      if 'reply_count' in msg_ls[i].keys(): \n",
        "        sub_dict['reply_count'].append(msg_ls[i]['reply_count']) #-> Extract số review\n",
        "      else:\n",
        "        sub_dict['reply_count'].append('na')\n",
        "        \n",
        "\n",
        "      if 'reply_users_count' in msg_ls[i].keys(): \n",
        "        sub_dict['reply_users_count'].append(msg_ls[i]['reply_users_count'])\n",
        "      else:\n",
        "        sub_dict['reply_users_count'].append('na')\n",
        "       \n",
        "\n",
        "      if 'reply_users' in msg_ls[i].keys(): \n",
        "        sub_dict['reply_users'].append(msg_ls[i]['reply_users'])\n",
        "      else:\n",
        "        sub_dict['reply_users'].append('na')\n",
        "\n",
        "       \n",
        "      if 'latest_reply' in msg_ls[i].keys(): \n",
        "        sub_dict['latest_reply'].append(dt.fromtimestamp(float(msg_ls[i]['latest_reply'])))\n",
        "      else:\n",
        "        sub_dict['latest_reply'].append('na')\n",
        "        \n",
        "     "
      ],
      "execution_count": 197,
      "outputs": []
    },
    {
      "cell_type": "markdown",
      "metadata": {
        "id": "SgSC21qO3kKA"
      },
      "source": [
        "### TODO#4\n",
        "* Tạo thành 1 bảng chứa các thông tin trên và update lên Spreadsheet (Sheet: Assignment#2 Submission)"
      ]
    },
    {
      "cell_type": "code",
      "execution_count": 190,
      "metadata": {},
      "outputs": [],
      "source": [
        "# ACCES GOOGLE SHEET (Second Sheet)\n",
        "sheet_index_no = 1\n",
        "spreadsheet_key = '1grj59muE9MSV2-Vitt0TFEqiiqouHSuEq0ovom4WAlU' # input SPREADSHEET_KEY HERE\n",
        "sh = gc.open_by_key(spreadsheet_key)\n",
        "worksheet_1 = sh.get_worksheet(sheet_index_no) #-> 0 - first sheet, 1 - second sheet etc. "
      ]
    },
    {
      "cell_type": "code",
      "execution_count": 198,
      "metadata": {},
      "outputs": [
        {
          "output_type": "execute_result",
          "data": {
            "text/plain": [
              "                          ts         user reply_count reply_users_count  \\\n",
              "0 2021-05-22 12:39:34.015500  U01UTGRMGEQ           1                 1   \n",
              "1 2021-05-22 11:58:33.012100  U01VBGPP1EU          na                na   \n",
              "2 2021-05-21 11:24:09.003100  U01U6JQB695           3                 2   \n",
              "3 2021-05-20 18:19:34.017100  U01KDQJ9FCG           2                 2   \n",
              "4 2021-05-20 07:19:34.008100  U01UMBX2X18          na                na   \n",
              "\n",
              "                  reply_users                latest_reply  \\\n",
              "0               [U01UTGRMGEQ]  2021-05-22 21:18:58.019900   \n",
              "1                          na                          na   \n",
              "2  [U01UJ9PA0MB, U01U6JQB695]  2021-05-24 22:12:28.027100   \n",
              "3  [U01UTGT8CVA, U01KDQJ9FCG]  2021-05-21 11:53:35.005600   \n",
              "4                          na                          na   \n",
              "\n",
              "                                   github  \n",
              "0  https://github.com/nguyenhonghanh2511/  \n",
              "1                                      na  \n",
              "2         https://github.com/Tenderriver/  \n",
              "3        https://github.com/phanlinh0803/  \n",
              "4          https://github.com/thienphu71/  "
            ],
            "text/html": "<div>\n<style scoped>\n    .dataframe tbody tr th:only-of-type {\n        vertical-align: middle;\n    }\n\n    .dataframe tbody tr th {\n        vertical-align: top;\n    }\n\n    .dataframe thead th {\n        text-align: right;\n    }\n</style>\n<table border=\"1\" class=\"dataframe\">\n  <thead>\n    <tr style=\"text-align: right;\">\n      <th></th>\n      <th>ts</th>\n      <th>user</th>\n      <th>reply_count</th>\n      <th>reply_users_count</th>\n      <th>reply_users</th>\n      <th>latest_reply</th>\n      <th>github</th>\n    </tr>\n  </thead>\n  <tbody>\n    <tr>\n      <th>0</th>\n      <td>2021-05-22 12:39:34.015500</td>\n      <td>U01UTGRMGEQ</td>\n      <td>1</td>\n      <td>1</td>\n      <td>[U01UTGRMGEQ]</td>\n      <td>2021-05-22 21:18:58.019900</td>\n      <td>https://github.com/nguyenhonghanh2511/</td>\n    </tr>\n    <tr>\n      <th>1</th>\n      <td>2021-05-22 11:58:33.012100</td>\n      <td>U01VBGPP1EU</td>\n      <td>na</td>\n      <td>na</td>\n      <td>na</td>\n      <td>na</td>\n      <td>na</td>\n    </tr>\n    <tr>\n      <th>2</th>\n      <td>2021-05-21 11:24:09.003100</td>\n      <td>U01U6JQB695</td>\n      <td>3</td>\n      <td>2</td>\n      <td>[U01UJ9PA0MB, U01U6JQB695]</td>\n      <td>2021-05-24 22:12:28.027100</td>\n      <td>https://github.com/Tenderriver/</td>\n    </tr>\n    <tr>\n      <th>3</th>\n      <td>2021-05-20 18:19:34.017100</td>\n      <td>U01KDQJ9FCG</td>\n      <td>2</td>\n      <td>2</td>\n      <td>[U01UTGT8CVA, U01KDQJ9FCG]</td>\n      <td>2021-05-21 11:53:35.005600</td>\n      <td>https://github.com/phanlinh0803/</td>\n    </tr>\n    <tr>\n      <th>4</th>\n      <td>2021-05-20 07:19:34.008100</td>\n      <td>U01UMBX2X18</td>\n      <td>na</td>\n      <td>na</td>\n      <td>na</td>\n      <td>na</td>\n      <td>https://github.com/thienphu71/</td>\n    </tr>\n  </tbody>\n</table>\n</div>"
          },
          "metadata": {},
          "execution_count": 198
        }
      ],
      "source": [
        "sub_df = pd.DataFrame(sub_dict)\n",
        "sub_df.head(5)"
      ]
    },
    {
      "cell_type": "code",
      "execution_count": 200,
      "metadata": {},
      "outputs": [],
      "source": [
        "# APPEND DATA TO SHEET\n",
        "set_with_dataframe(worksheet_1, sub_df) #-> Upload user_df vào Sheet đầu tiên trong Spreadsheet"
      ]
    },
    {
      "cell_type": "markdown",
      "metadata": {
        "id": "698exK3k35RM"
      },
      "source": [
        "-------------- HẾT PHẦN OPTION 2 ---------------------"
      ]
    }
  ]
}